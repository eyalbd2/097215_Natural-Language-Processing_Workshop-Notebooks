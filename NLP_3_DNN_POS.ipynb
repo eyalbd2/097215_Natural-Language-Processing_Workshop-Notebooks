{
  "nbformat": 4,
  "nbformat_minor": 0,
  "metadata": {
    "colab": {
      "name": "NLP_3-DNN_POS.ipynb",
      "provenance": [],
      "collapsed_sections": [],
      "include_colab_link": true
    },
    "kernelspec": {
      "name": "python3",
      "display_name": "Python 3"
    },
    "accelerator": "GPU"
  },
  "cells": [
    {
      "cell_type": "markdown",
      "metadata": {
        "id": "view-in-github",
        "colab_type": "text"
      },
      "source": [
        "<a href=\"https://colab.research.google.com/github/eyalbd2/097215_Natural-Language-Processing_Workshop-Notebooks/blob/master/NLP_3_DNN_POS.ipynb\" target=\"_parent\"><img src=\"https://colab.research.google.com/assets/colab-badge.svg\" alt=\"Open In Colab\"/></a>"
      ]
    },
    {
      "cell_type": "markdown",
      "metadata": {
        "id": "8mMT5nM3hsIz",
        "colab_type": "text"
      },
      "source": [
        "# <img src=\"https://img.icons8.com/dusk/64/000000/mind-map.png\" style=\"height:50px;display:inline\"> IE 097215 - Technion - Natural Language Processing\n",
        "\n",
        "## Pytorch - Implementing a POS tagger\n",
        "In the first assignment in the course you have implemented a POS-MEMM tagger. We have used manually handcrafted features to represent input text. In this workshop we will use a Deep Neural Network (DNN) to represent input text. This notebook includes specific modules which you can be use in the second assignment of the course."
      ]
    },
    {
      "cell_type": "markdown",
      "metadata": {
        "id": "GT3ffBzqkktp",
        "colab_type": "text"
      },
      "source": [
        "\n",
        "\n",
        "####**Importing all necessery packages.** "
      ]
    },
    {
      "cell_type": "code",
      "metadata": {
        "id": "yRhnp0-hUm4P",
        "colab_type": "code",
        "outputId": "8ce027a3-1639-4bec-9af8-5bb8aff32baf",
        "colab": {
          "base_uri": "https://localhost:8080/",
          "height": 120
        }
      },
      "source": [
        "from google.colab import drive\n",
        "drive.mount('/content/gdrive')\n",
        "\n",
        "data_dir = \"/content/gdrive/My Drive/Colab Notebooks/data/POS/\""
      ],
      "execution_count": 0,
      "outputs": [
        {
          "output_type": "stream",
          "text": [
            "Go to this URL in a browser: https://accounts.google.com/o/oauth2/auth?client_id=947318989803-6bn6qk8qdgf4n4g3pfee6491hc0brc4i.apps.googleusercontent.com&redirect_uri=urn%3aietf%3awg%3aoauth%3a2.0%3aoob&response_type=code&scope=email%20https%3a%2f%2fwww.googleapis.com%2fauth%2fdocs.test%20https%3a%2f%2fwww.googleapis.com%2fauth%2fdrive%20https%3a%2f%2fwww.googleapis.com%2fauth%2fdrive.photos.readonly%20https%3a%2f%2fwww.googleapis.com%2fauth%2fpeopleapi.readonly\n",
            "\n",
            "Enter your authorization code:\n",
            "··········\n",
            "Mounted at /content/gdrive\n"
          ],
          "name": "stdout"
        }
      ]
    },
    {
      "cell_type": "code",
      "metadata": {
        "id": "3-04mAVfhkme",
        "colab_type": "code",
        "colab": {}
      },
      "source": [
        "import pandas as pd\n",
        "import numpy as np\n",
        "import torch\n",
        "import torch.nn as nn\n",
        "import torch.nn.functional as F\n",
        "import torch.optim as optim\n",
        "import random\n",
        "from torch.utils.data.dataloader import DataLoader"
      ],
      "execution_count": 0,
      "outputs": []
    },
    {
      "cell_type": "markdown",
      "metadata": {
        "id": "SyH3INpirWv_",
        "colab_type": "text"
      },
      "source": [
        "####**Create Vocabulary**\n",
        "We will first implement a util function and then we will extract vocabulary out of our data."
      ]
    },
    {
      "cell_type": "code",
      "metadata": {
        "id": "MGxz4MgYvfwp",
        "colab_type": "code",
        "colab": {}
      },
      "source": [
        "def split(string, delimiters):\n",
        "    \"\"\"\n",
        "        Split strings according to delimiters\n",
        "        :param string: full sentence\n",
        "        :param delimiters string: characters for spliting\n",
        "            function splits sentence to words\n",
        "    \"\"\"\n",
        "    delimiters = tuple(delimiters)\n",
        "    stack = [string, ]\n",
        "\n",
        "    for delimiter in delimiters:\n",
        "        for i, substring in enumerate(stack):\n",
        "            substack = substring.split(delimiter)\n",
        "            stack.pop(i)\n",
        "            for j, _substring in enumerate(substack):\n",
        "                stack.insert(i + j, _substring)\n",
        "\n",
        "    return stack"
      ],
      "execution_count": 0,
      "outputs": []
    },
    {
      "cell_type": "code",
      "metadata": {
        "id": "zv1Mq-h1rb8T",
        "colab_type": "code",
        "colab": {}
      },
      "source": [
        "def get_vocabs(list_of_paths):\n",
        "    \"\"\"\n",
        "        Extract vocabs from given datasets. Return a word2ids and tag2idx.\n",
        "        :param file_paths: a list with a full path for all corpuses\n",
        "            Return:\n",
        "              - word2idx\n",
        "              - tag2idx\n",
        "    \"\"\"\n",
        "    word_dict = defaultdict(int)\n",
        "    pos_dict = defaultdict(int)\n",
        "    for file_path in list_of_paths:\n",
        "        with open(file_path) as f:\n",
        "            for line in f:\n",
        "                splited_words = split(line, (' ', '\\n'))\n",
        "                del splited_words[-1]\n",
        "                for word_and_tag in splited_words:\n",
        "                    word, pos_tag = split(word_and_tag, '_')\n",
        "                    word_dict[word] += 1\n",
        "                    pos_dict[pos_tag] += 1\n",
        "\n",
        "    return word_dict, pos_dict\n",
        "# ******************* USAGE EXAMPLE (this is good practice) *******************\n",
        "# path_train = \"data/train.wtag\"\n",
        "# path_test = \"data/test.wtag\"\n",
        "# paths_list = [path_train, path_test]\n",
        "# word_dict, pos_dict = get_vocabs(paths_list)\n",
        "# *****************************************************************************"
      ],
      "execution_count": 0,
      "outputs": []
    },
    {
      "cell_type": "markdown",
      "metadata": {
        "id": "l1cfc2xkAiEf",
        "colab_type": "text"
      },
      "source": [
        "####**Data Reader**"
      ]
    },
    {
      "cell_type": "code",
      "metadata": {
        "id": "LN389bwRAn1E",
        "colab_type": "code",
        "colab": {}
      },
      "source": [
        "from collections import defaultdict\n",
        "\n",
        "class PosDataReader:\n",
        "    def __init__(self, file, word_dict, pos_dict):\n",
        "        self.file = file\n",
        "        self.word_dict = word_dict\n",
        "        self.pos_dict = pos_dict\n",
        "        self.sentences = []\n",
        "        self.__readData__()\n",
        "    \n",
        "    def __readData__(self):\n",
        "        \"\"\"main reader function which also populates the class data structures\"\"\"\n",
        "        with open(self.file, 'r') as f:\n",
        "          for line in f:\n",
        "              cur_sentence = []\n",
        "              splited_words = split(line, (' ', '\\n'))\n",
        "              del splited_words[-1]\n",
        "              for word_and_tag in splited_words:\n",
        "                  cur_word, cur_tag = split(word_and_tag, '_')\n",
        "                  cur_sentence.append((cur_word, cur_tag))\n",
        "              self.sentences.append(cur_sentence)\n",
        "\n",
        "    def get_num_sentences(self):\n",
        "        \"\"\"returns num of sentences in data\"\"\"\n",
        "        return len(self.sentences)\n"
      ],
      "execution_count": 0,
      "outputs": []
    },
    {
      "cell_type": "markdown",
      "metadata": {
        "id": "h2oa34ha7zr4",
        "colab_type": "text"
      },
      "source": [
        "####**Dataset**"
      ]
    },
    {
      "cell_type": "code",
      "metadata": {
        "id": "vtmygai-77n7",
        "colab_type": "code",
        "colab": {}
      },
      "source": [
        "from torchtext.vocab import Vocab\n",
        "from torch.utils.data.dataset import Dataset, TensorDataset\n",
        "from pathlib import Path\n",
        "from collections import Counter\n",
        "\n",
        "# These are not relevant for our POS tagger but might be usefull for HW2\n",
        "UNKNOWN_TOKEN = \"<unk>\"\n",
        "PAD_TOKEN = \"<pad>\" # Optional: this is used to pad a batch of sentences in different lengths.\n",
        "# ROOT_TOKEN = PAD_TOKEN # this can be used if you are not padding your batches\n",
        "# # ROOT_TOKEN = \"<root>\" # use this if you are padding your batches and want a special token for ROOT\n",
        "SPECIAL_TOKENS = [PAD_TOKEN, UNKNOWN_TOKEN]\n",
        "\n",
        "\n",
        "class PosDataset(Dataset):\n",
        "    def __init__(self, word_dict, pos_dict, dir_path: str, subset: str, padding=False, word_embeddings=None):\n",
        "        super().__init__()\n",
        "        self.subset = subset # One of the following: [train, test]\n",
        "        self.file = dir_path + subset + \".wtag\"\n",
        "        self.datareader = PosDataReader(self.file, word_dict, pos_dict)\n",
        "        self.vocab_size = len(self.datareader.word_dict)\n",
        "        if word_embeddings:\n",
        "            self.word_idx_mappings, self.idx_word_mappings, self.word_vectors = word_embeddings\n",
        "        else:\n",
        "            self.word_idx_mappings, self.idx_word_mappings, self.word_vectors = self.init_word_embeddings(self.datareader.word_dict)\n",
        "        self.pos_idx_mappings, self.idx_pos_mappings = self.init_pos_vocab(self.datareader.pos_dict)\n",
        "        self.pad_idx = self.word_idx_mappings.get(PAD_TOKEN)\n",
        "        self.unknown_idx = self.word_idx_mappings.get(UNKNOWN_TOKEN)\n",
        "        self.word_vector_dim = self.word_vectors.size(-1)\n",
        "        self.sentence_lens = [len(sentence) for sentence in self.datareader.sentences]\n",
        "        self.max_seq_len = max(self.sentence_lens)\n",
        "        self.sentences_dataset = self.convert_sentences_to_dataset(padding)\n",
        "\n",
        "    def __len__(self):\n",
        "        return len(self.sentences_dataset)\n",
        "\n",
        "    def __getitem__(self, index):\n",
        "        word_embed_idx, pos_embed_idx, sentence_len = self.sentences_dataset[index]\n",
        "        return word_embed_idx, pos_embed_idx, sentence_len\n",
        "\n",
        "    @staticmethod\n",
        "    def init_word_embeddings(word_dict):\n",
        "        glove = Vocab(Counter(word_dict), vectors=\"glove.6B.300d\", specials=SPECIAL_TOKENS)\n",
        "        return glove.stoi, glove.itos, glove.vectors\n",
        "\n",
        "    def get_word_embeddings(self):\n",
        "        return self.word_idx_mappings, self.idx_word_mappings, self.word_vectors\n",
        "\n",
        "    def init_pos_vocab(self, pos_dict):\n",
        "        idx_pos_mappings = sorted([self.word_idx_mappings.get(token) for token in SPECIAL_TOKENS])\n",
        "        pos_idx_mappings = {self.idx_word_mappings[idx]: idx for idx in idx_pos_mappings}\n",
        "        \n",
        "        for i, pos in enumerate(sorted(pos_dict.keys())):\n",
        "            # pos_idx_mappings[str(pos)] = int(i)\n",
        "            pos_idx_mappings[str(pos)] = int(i+len(SPECIAL_TOKENS))\n",
        "            idx_pos_mappings.append(str(pos))\n",
        "        print(\"idx_pos_mappings -\", idx_pos_mappings)\n",
        "        print(\"pos_idx_mappings -\", pos_idx_mappings)\n",
        "        return pos_idx_mappings, idx_pos_mappings\n",
        "        \n",
        "    def get_pos_vocab(self):\n",
        "        return self.pos_idx_mappings, self.idx_pos_mappings\n",
        "\n",
        "    def convert_sentences_to_dataset(self, padding):\n",
        "        sentence_word_idx_list = list()\n",
        "        sentence_pos_idx_list = list()\n",
        "        sentence_len_list = list()\n",
        "        for sentence_idx, sentence in enumerate(self.datareader.sentences):\n",
        "            words_idx_list = []\n",
        "            pos_idx_list = []\n",
        "            for word, pos in sentence:\n",
        "                words_idx_list.append(self.word_idx_mappings.get(word))\n",
        "                pos_idx_list.append(self.pos_idx_mappings.get(pos))\n",
        "            sentence_len = len(words_idx_list)\n",
        "            # if padding:\n",
        "            #     while len(words_idx_list) < self.max_seq_len:\n",
        "            #         words_idx_list.append(self.word_idx_mappings.get(PAD_TOKEN))\n",
        "            #         pos_idx_list.append(self.pos_idx_mappings.get(PAD_TOKEN))\n",
        "            sentence_word_idx_list.append(torch.tensor(words_idx_list, dtype=torch.long, requires_grad=False))\n",
        "            sentence_pos_idx_list.append(torch.tensor(pos_idx_list, dtype=torch.long, requires_grad=False))\n",
        "            sentence_len_list.append(sentence_len)\n",
        "        \n",
        "        # if padding:\n",
        "        #     all_sentence_word_idx = torch.tensor(sentence_word_idx_list, dtype=torch.long)\n",
        "        #     all_sentence_pos_idx = torch.tensor(sentence_pos_idx_list, dtype=torch.long)\n",
        "        #     all_sentence_len = torch.tensor(sentence_len_list, dtype=torch.long, requires_grad=False)\n",
        "        #     return TensorDataset(all_sentence_word_idx, all_sentence_pos_idx, all_sentence_len)\n",
        "            \n",
        "        return {i: sample_tuple for i, sample_tuple in enumerate(zip(sentence_word_idx_list,\n",
        "                                                                     sentence_pos_idx_list,\n",
        "                                                                     sentence_len_list))}"
      ],
      "execution_count": 0,
      "outputs": []
    },
    {
      "cell_type": "code",
      "metadata": {
        "id": "38ZjxNKovpLi",
        "colab_type": "code",
        "outputId": "85e2d154-3bb5-4569-a4cc-a79b271eebb7",
        "colab": {
          "base_uri": "https://localhost:8080/",
          "height": 154
        }
      },
      "source": [
        "path_train = data_dir + \"train.wtag\"\n",
        "print(\"path_train -\", path_train)\n",
        "path_test = data_dir + \"test.wtag\"\n",
        "print(\"path_test -\", path_test)\n",
        "\n",
        "paths_list = [path_train, path_test]\n",
        "word_dict, pos_dict = get_vocabs(paths_list)\n",
        "train = PosDataset(word_dict, pos_dict, data_dir, 'train', padding=False)\n",
        "train_dataloader = DataLoader(train, shuffle=True)\n",
        "test = PosDataset(word_dict, pos_dict, data_dir, 'test', padding=False)\n",
        "test_dataloader = DataLoader(test, shuffle=False)\n",
        "\n",
        "\n"
      ],
      "execution_count": 0,
      "outputs": [
        {
          "output_type": "stream",
          "text": [
            "path_train - /content/gdrive/My Drive/Colab Notebooks/data/POS/train.wtag\n",
            "path_test - /content/gdrive/My Drive/Colab Notebooks/data/POS/test.wtag\n"
          ],
          "name": "stdout"
        },
        {
          "output_type": "stream",
          "text": [
            ".vector_cache/glove.6B.zip: 862MB [06:30, 2.21MB/s]                           \n",
            "100%|█████████▉| 399474/400000 [00:47<00:00, 8469.84it/s]"
          ],
          "name": "stderr"
        },
        {
          "output_type": "stream",
          "text": [
            "idx_pos_mappings - [0, 1, '#', '$', \"''\", ',', '-LRB-', '-RRB-', '.', ':', 'CC', 'CD', 'DT', 'EX', 'FW', 'IN', 'JJ', 'JJR', 'JJS', 'MD', 'NN', 'NNP', 'NNPS', 'NNS', 'PDT', 'POS', 'PRP', 'PRP$', 'RB', 'RBR', 'RBS', 'RP', 'SYM', 'TO', 'UH', 'VB', 'VBD', 'VBG', 'VBN', 'VBP', 'VBZ', 'WDT', 'WP', 'WP$', 'WRB', '``']\n",
            "pos_idx_mappings - {'<pad>': 0, '<unk>': 1, '#': 2, '$': 3, \"''\": 4, ',': 5, '-LRB-': 6, '-RRB-': 7, '.': 8, ':': 9, 'CC': 10, 'CD': 11, 'DT': 12, 'EX': 13, 'FW': 14, 'IN': 15, 'JJ': 16, 'JJR': 17, 'JJS': 18, 'MD': 19, 'NN': 20, 'NNP': 21, 'NNPS': 22, 'NNS': 23, 'PDT': 24, 'POS': 25, 'PRP': 26, 'PRP$': 27, 'RB': 28, 'RBR': 29, 'RBS': 30, 'RP': 31, 'SYM': 32, 'TO': 33, 'UH': 34, 'VB': 35, 'VBD': 36, 'VBG': 37, 'VBN': 38, 'VBP': 39, 'VBZ': 40, 'WDT': 41, 'WP': 42, 'WP$': 43, 'WRB': 44, '``': 45}\n",
            "idx_pos_mappings - [0, 1, '#', '$', \"''\", ',', '-LRB-', '-RRB-', '.', ':', 'CC', 'CD', 'DT', 'EX', 'FW', 'IN', 'JJ', 'JJR', 'JJS', 'MD', 'NN', 'NNP', 'NNPS', 'NNS', 'PDT', 'POS', 'PRP', 'PRP$', 'RB', 'RBR', 'RBS', 'RP', 'SYM', 'TO', 'UH', 'VB', 'VBD', 'VBG', 'VBN', 'VBP', 'VBZ', 'WDT', 'WP', 'WP$', 'WRB', '``']\n",
            "pos_idx_mappings - {'<pad>': 0, '<unk>': 1, '#': 2, '$': 3, \"''\": 4, ',': 5, '-LRB-': 6, '-RRB-': 7, '.': 8, ':': 9, 'CC': 10, 'CD': 11, 'DT': 12, 'EX': 13, 'FW': 14, 'IN': 15, 'JJ': 16, 'JJR': 17, 'JJS': 18, 'MD': 19, 'NN': 20, 'NNP': 21, 'NNPS': 22, 'NNS': 23, 'PDT': 24, 'POS': 25, 'PRP': 26, 'PRP$': 27, 'RB': 28, 'RBR': 29, 'RBS': 30, 'RP': 31, 'SYM': 32, 'TO': 33, 'UH': 34, 'VB': 35, 'VBD': 36, 'VBG': 37, 'VBN': 38, 'VBP': 39, 'VBZ': 40, 'WDT': 41, 'WP': 42, 'WP$': 43, 'WRB': 44, '``': 45}\n"
          ],
          "name": "stdout"
        }
      ]
    },
    {
      "cell_type": "code",
      "metadata": {
        "id": "jYwuXpdhzZ_T",
        "colab_type": "code",
        "outputId": "de2f645b-5421-4f65-bc91-e9b25341904f",
        "colab": {
          "base_uri": "https://localhost:8080/",
          "height": 50
        }
      },
      "source": [
        "print(\"Number of Train Tagged Sentences \", len(train))\n",
        "print(\"Number of Test Tagged Sentences \",len(test))\n"
      ],
      "execution_count": 0,
      "outputs": [
        {
          "output_type": "stream",
          "text": [
            "Number of Train Tagged Sentences  5000\n",
            "Number of Test Tagged Sentences  1000\n"
          ],
          "name": "stdout"
        }
      ]
    },
    {
      "cell_type": "markdown",
      "metadata": {
        "id": "o1eWUr9loluL",
        "colab_type": "text"
      },
      "source": [
        "####**Create a model**\n",
        "\n",
        "We will implement an LSTM model and a Viterbi based LSTM model."
      ]
    },
    {
      "cell_type": "code",
      "metadata": {
        "id": "G_yXx9SVMSkK",
        "colab_type": "code",
        "colab": {}
      },
      "source": [
        "class DnnPosTagger(nn.Module):\n",
        "    def __init__(self, word_embeddings, hidden_dim, word_vocab_size, tag_vocab_size):\n",
        "        super(DnnPosTagger, self).__init__()\n",
        "        emb_dim = word_embeddings.shape[1]\n",
        "        self.device = torch.device(\"cuda\" if torch.cuda.is_available() else \"cpu\")\n",
        "        #self.word_embedding = nn.Embedding(word_vocab_size, word_embedding_dim)\n",
        "        self.word_embedding = nn.Embedding.from_pretrained(word_embeddings, freeze=False)\n",
        "        self.lstm = nn.LSTM(input_size=emb_dim, hidden_size=hidden_dim, num_layers=2, bidirectional=True, batch_first=True)\n",
        "        self.hidden2tag = nn.Linear(hidden_dim*2, tag_vocab_size)\n",
        "\n",
        "        \n",
        "    def forward(self, word_idx_tensor):\n",
        "        embeds = self.word_embedding(word_idx_tensor.to(self.device))   # [batch_size, seq_length, emb_dim]      \n",
        "        lstm_out, _ = self.lstm(embeds.view(embeds.shape[1], 1, -1))    # [seq_length, batch_size, 2*hidden_dim]\n",
        "        tag_space = self.hidden2tag(lstm_out.view(embeds.shape[1], -1)) # [seq_length, tag_dim]\n",
        "        tag_scores = F.log_softmax(tag_space, dim=1)                    # [seq_length, tag_dim]\n",
        "        return tag_scores"
      ],
      "execution_count": 0,
      "outputs": []
    },
    {
      "cell_type": "markdown",
      "metadata": {
        "id": "mtRA1lM3o3lT",
        "colab_type": "text"
      },
      "source": [
        "####**Evaluation Method**"
      ]
    },
    {
      "cell_type": "code",
      "metadata": {
        "id": "vpjCZB6jo755",
        "colab_type": "code",
        "colab": {}
      },
      "source": [
        "def evaluate():\n",
        "    acc = 0\n",
        "    with torch.no_grad():\n",
        "        for batch_idx, input_data in enumerate(test_dataloader):\n",
        "            \n",
        "            words_idx_tensor, pos_idx_tensor, sentence_length = input_data  \n",
        "            tag_scores = model(words_idx_tensor)\n",
        "            tag_scores = tag_scores.unsqueeze(0).permute(0,2,1)\n",
        "            \n",
        "            _, indices = torch.max(tag_scores, 1)\n",
        "            acc += torch.mean(torch.tensor(pos_idx_tensor.to(\"cpu\") == indices.to(\"cpu\"), dtype=torch.float))\n",
        "        acc = acc / len(test)\n",
        "    return acc"
      ],
      "execution_count": 0,
      "outputs": []
    },
    {
      "cell_type": "markdown",
      "metadata": {
        "id": "_pTF2lREpBFO",
        "colab_type": "text"
      },
      "source": [
        "####**Training The LSTM Model**"
      ]
    },
    {
      "cell_type": "code",
      "metadata": {
        "id": "iMTpPt6NMmGU",
        "colab_type": "code",
        "outputId": "dd6e7cc7-f0ad-4b5c-ce68-154e89fbe9fd",
        "colab": {
          "base_uri": "https://localhost:8080/",
          "height": 187
        }
      },
      "source": [
        "#CUDA_LAUNCH_BLOCKING=1  \n",
        "\n",
        "EPOCHS = 5\n",
        "WORD_EMBEDDING_DIM = 100\n",
        "HIDDEN_DIM = 1000\n",
        "word_vocab_size = len(train.word_idx_mappings)\n",
        "tag_vocab_size = len(train.pos_idx_mappings)\n",
        "\n",
        "model = DnnPosTagger(train_dataloader.dataset.word_vectors, HIDDEN_DIM, word_vocab_size, tag_vocab_size)\n",
        "\n",
        "use_cuda = torch.cuda.is_available()\n",
        "device = torch.device(\"cuda:0\" if use_cuda else \"cpu\")\n",
        "\n",
        "if use_cuda:\n",
        "    model.cuda()\n",
        "\n",
        "# Define the loss function as the Negative Log Likelihood loss (NLLLoss)\n",
        "loss_function = nn.NLLLoss()\n",
        "\n",
        "# We will be using a simple SGD optimizer to minimize the loss function\n",
        "optimizer = optim.Adam(model.parameters(), lr=0.01)\n",
        "acumulate_grad_steps = 50 # This is the actual batch_size, while we officially use batch_size=1\n",
        "\n",
        "# Training start\n",
        "print(\"Training Started\")\n",
        "accuracy_list = []\n",
        "loss_list = []\n",
        "epochs = EPOCHS\n",
        "for epoch in range(epochs):\n",
        "    acc = 0 #to keep track of accuracy\n",
        "    loss = 0 # To keep track of the loss value\n",
        "    i = 0\n",
        "    for batch_idx, input_data in enumerate(train_dataloader):\n",
        "        i += 1\n",
        "        words_idx_tensor, pos_idx_tensor, sentence_length = input_data\n",
        "        \n",
        "        tag_scores = model(words_idx_tensor)\n",
        "        tag_scores = tag_scores.unsqueeze(0).permute(0,2,1)\n",
        "        #print(\"tag_scores shape -\", tag_scores.shape)\n",
        "        #print(\"pos_idx_tensor shape -\", pos_idx_tensor.shape)\n",
        "        loss = loss_function(tag_scores, pos_idx_tensor.to(device))\n",
        "        loss = loss / acumulate_grad_steps\n",
        "        loss.backward()\n",
        "\n",
        "        if i % acumulate_grad_steps == 0:\n",
        "            optimizer.step()\n",
        "            model.zero_grad()\n",
        "        loss += loss.item()\n",
        "        _, indices = torch.max(tag_scores, 1)\n",
        "        #print(\"tag_scores shape-\", tag_scores.shape)\n",
        "        #print(\"indices shape-\", indices.shape)\n",
        "        # acc += indices.eq(pos_idx_tensor.view_as(indices)).mean().item()\n",
        "        acc += torch.mean(torch.tensor(pos_idx_tensor.to(\"cpu\") == indices.to(\"cpu\"), dtype=torch.float))\n",
        "    loss = loss / len(train)\n",
        "    acc = acc / len(train)\n",
        "    loss_list.append(float(loss))\n",
        "    accuracy_list.append(float(acc))\n",
        "    test_acc = evaluate()\n",
        "    e_interval = i\n",
        "    print(\"Epoch {} Completed,\\tLoss {}\\tAccuracy: {}\\t Test Accuracy: {}\".format(epoch + 1, np.mean(loss_list[-e_interval:]), np.mean(accuracy_list[-e_interval:]), test_acc))\n",
        "        "
      ],
      "execution_count": 0,
      "outputs": [
        {
          "output_type": "stream",
          "text": [
            "Training Started\n"
          ],
          "name": "stdout"
        },
        {
          "output_type": "stream",
          "text": [
            "/usr/local/lib/python3.6/dist-packages/ipykernel_launcher.py:52: UserWarning: To copy construct from a tensor, it is recommended to use sourceTensor.clone().detach() or sourceTensor.clone().detach().requires_grad_(True), rather than torch.tensor(sourceTensor).\n",
            "/usr/local/lib/python3.6/dist-packages/ipykernel_launcher.py:11: UserWarning: To copy construct from a tensor, it is recommended to use sourceTensor.clone().detach() or sourceTensor.clone().detach().requires_grad_(True), rather than torch.tensor(sourceTensor).\n",
            "  # This is added back by InteractiveShellApp.init_path()\n"
          ],
          "name": "stderr"
        },
        {
          "output_type": "stream",
          "text": [
            "Epoch 1 Completed,\tLoss 9.808642289499403e-07\tAccuracy: 0.8385487198829651\t Test Accuracy: 0.912811279296875\n",
            "Epoch 2 Completed,\tLoss 1.9434251612437947e-06\tAccuracy: 0.8877525925636292\t Test Accuracy: 0.9067459106445312\n",
            "Epoch 3 Completed,\tLoss 1.8229822747647024e-06\tAccuracy: 0.9059556722640991\t Test Accuracy: 0.9150866866111755\n",
            "Epoch 4 Completed,\tLoss 2.2228723253192584e-06\tAccuracy: 0.9156071543693542\t Test Accuracy: 0.9119293093681335\n",
            "Epoch 5 Completed,\tLoss 2.1721560869991663e-06\tAccuracy: 0.9215393543243409\t Test Accuracy: 0.9115403294563293\n"
          ],
          "name": "stdout"
        }
      ]
    },
    {
      "cell_type": "markdown",
      "metadata": {
        "id": "rFyD2IjBpWij",
        "colab_type": "text"
      },
      "source": [
        "####**Plot Training Results**"
      ]
    },
    {
      "cell_type": "code",
      "metadata": {
        "id": "5i5mwQ4PpcXx",
        "colab_type": "code",
        "outputId": "772a9c37-d3c0-4b1a-c2b4-407ceac7728e",
        "colab": {
          "base_uri": "https://localhost:8080/",
          "height": 542
        }
      },
      "source": [
        "import matplotlib.pyplot as plt\n",
        "\n",
        "plt.plot(accuracy_list, c=\"red\", label =\"Accuracy\")\n",
        "plt.xlabel(\"Epochs\")\n",
        "plt.ylabel(\"Value\")\n",
        "plt.legend()\n",
        "plt.show()\n",
        "\n",
        "plt.plot(loss_list, c=\"blue\", label =\"Loss\")\n",
        "plt.xlabel(\"Epochs\")\n",
        "plt.ylabel(\"Value\")\n",
        "plt.legend()\n",
        "plt.show()"
      ],
      "execution_count": 0,
      "outputs": [
        {
          "output_type": "display_data",
          "data": {
            "image/png": "[encoded data removed]",
            "text/plain": [
              "<Figure size 432x288 with 1 Axes>"
            ]
          },
          "metadata": {
            "tags": []
          }
        },
        {
          "output_type": "display_data",
          "data": {
            "image/png": "[encoded data removed]",
            "text/plain": [
              "<Figure size 432x288 with 1 Axes>"
            ]
          },
          "metadata": {
            "tags": []
          }
        }
      ]
    },
    {
      "cell_type": "markdown",
      "metadata": {
        "id": "KrBU2sNw9dT5",
        "colab_type": "text"
      },
      "source": [
        "####**How To Implement HW2 Dependency Parser**\n",
        "\n",
        "In HW2 we will implement the Graph-based Dependency Parser presented by Kiperwasser and Goldberg. In their [paper](https://https://arxiv.org/pdf/1603.04351.pdf), Kiperwasser and Goldberg proposed a Bidirectional LSTM model to extract features from the words and POS tags of a sentence, and generate an adjacency matrix representing the dependency edge scores between every two nodes (words) in the sentence. This matrix is then used by the Chu-Liu-Edmonds algorithm to create a valid parse tree.\\\n",
        "For further details, please read sections 3 (Our Approach), 5 (Graph-based Parser),  Implementation details and Hyperparameter tuning under section 6 (Experiments and Results) from the [paper](https://arxiv.org/pdf/1603.04351.pdf).\\\n",
        "**Please note:** instead of using the max-margin loss function presented in section 5 of the paper, we shall minimize the negative log-likelihood loss function ($NLLLoss$) which you will implement in your code:\n",
        "$$\\min_{\\theta} NLLLoss(D;\\theta) = \\\\ \\min_{\\theta}\\sum_{(X^i,Y^i) \\in D} \\sum_{(h,m) \\in Y^i} -\\frac{1}{|Y^i|} \\cdot log(P(S^i_{h,m}|X^i,\\theta))$$\n",
        "$$P(S^i_{h,m}|X^i,\\theta)=\\frac{exp(S^i_{h,m})}{\\sum_{j=1}^{|Y^i|} exp(S^i_{j,m})}=Softmax(S^i_{h,m})$$\n",
        "Where:\n",
        "\n",
        "* $ D = \\{(X^i,Y^i)\\}_{i=1}^n $, Dataset consisting of $n$ (sentence, true tree) pairs. \n",
        "* $X^i = \\{x_0=ROOT,x_1,...,x_{k_i}\\}$ is the full sequence of words in the sentence.\n",
        "* $Y^i=\\{(h,m)\\}$ is the set of all (head_index, modifier_index) edges in the **true** dependency tree of sentence $X^i$. $|Y^i|=k_i$.\n",
        "* $S^i \\in R^{(k_i+1)^2}$ is the score matrix for all possible (head, modifier) edges in the dependency graph of sentence $X^i$.\n",
        "The cell $S^i_{h,m}$ refers to the score of $h$ being the head of $m$ in sentence $X^i$.\n",
        "* $\\theta$ are the network's learned parameters\n",
        "\n",
        "Below we give a basic structure for the network's code implementation.\n"
      ]
    },
    {
      "cell_type": "code",
      "metadata": {
        "id": "oT3fXF0CEds8",
        "colab_type": "code",
        "colab": {}
      },
      "source": [
        "from chu_liu_edmonds import decode_mst\n",
        "\n",
        "\n",
        "class KiperwasserDependencyParser(nn.Module):\n",
        "    def __init__(self, *args):\n",
        "      super(KiperwasserDependencyParser, self).__init__()\n",
        "      self.word_embedding = # Implement embedding layer for words (can be new or pretrained - word2vec/glove)\n",
        "      self.pos_embedding = # Implement embedding layer for POS tags\n",
        "      self.hidden_dim = self.word_embedding.embedding_dim + self.pos_embedding.embedding_dim\n",
        "      self.encoder = # Implement BiLSTM module which is fed with word+pos embeddings and outputs hidden representations\n",
        "      self.edge_scorer = # Implement a sub-module to calculate the scores for all possible edges in sentence dependency graph\n",
        "      self.decoder = decode_mst # This is used to produce the maximum spannning tree during inference\n",
        "      self.loss_function = # Implement the loss function described above\n",
        "\n",
        "    def forward(self, sentence):\n",
        "      word_idx_tensor, pos_idx_tensor, true_tree_heads = sentence\n",
        "\n",
        "      # Pass word_idx and pos_idx through their embedding layers\n",
        "\n",
        "      # Concat both embedding outputs\n",
        "\n",
        "      # Get Bi-LSTM hidden representation for each word+pos in sentence\n",
        "\n",
        "      # Get score for each possible edge in the parsing graph, construct score matrix     \n",
        "        \n",
        "      # Use Chu-Liu-Edmonds to get the predicted parse tree T' given the calculated score matrix\n",
        "\n",
        "      # Calculate the negative log likelihood loss described above\n",
        "      \n",
        "      return loss, predicted_tree"
      ],
      "execution_count": 0,
      "outputs": []
    },
    {
      "cell_type": "markdown",
      "metadata": {
        "id": "sKd1f-irlKaH",
        "colab_type": "text"
      },
      "source": [
        "## <img src=\"https://img.icons8.com/dusk/64/000000/prize.png\" style=\"height:50px;display:inline\"> Credits\n",
        "* Much of the code above is adjusted from  <a href=\"https://www.kaggle.com/krishanudb/lstm-character-word-pos-tag-model-pytorch/data\">this Kaggle tutorial</a>\n",
        "* By <a href=\"https://github.com/eyalbd2\">Eyal Ben David</a> and <a href=\"https://github.com/nadavo\">Nadav Oved </a>"
      ]
    }
  ]
}