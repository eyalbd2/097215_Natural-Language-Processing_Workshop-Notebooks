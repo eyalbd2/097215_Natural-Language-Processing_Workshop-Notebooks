{
  "nbformat": 4,
  "nbformat_minor": 0,
  "metadata": {
    "kernelspec": {
      "name": "python3",
      "display_name": "Python 3"
    },
    "language_info": {
      "codemirror_mode": {
        "name": "ipython",
        "version": 3
      },
      "file_extension": ".py",
      "mimetype": "text/x-python",
      "name": "python",
      "nbconvert_exporter": "python",
      "pygments_lexer": "ipython3",
      "version": "3.6.5"
    },
    "colab": {
      "name": "NLP_0-python_basics.ipynb",
      "provenance": [],
      "include_colab_link": true
    }
  },
  "cells": [
    {
      "cell_type": "markdown",
      "metadata": {
        "id": "view-in-github",
        "colab_type": "text"
      },
      "source": [
        "<a href=\"https://colab.research.google.com/github/eyalbd2/097215---Natural-Language-Preocessing---Notebooks/blob/master/NLP_0_python_basics.ipynb\" target=\"_parent\"><img src=\"https://colab.research.google.com/assets/colab-badge.svg\" alt=\"Open In Colab\"/></a>"
      ]
    },
    {
      "cell_type": "markdown",
      "metadata": {
        "id": "WyBkEMxIDlju",
        "colab_type": "text"
      },
      "source": [
        "# <img src=\"https://img.icons8.com/dusk/64/000000/mind-map.png\" style=\"height:50px;display:inline\"> IE 097215 - Technion - Natural Language Processing\n",
        "\n",
        "## Part 0 - Setup your local computational environement\n",
        "The course assignment are are in Python. Install python on your machine. Note, the installation is easier on Mac or Linux Environments, but Windows work as well. We will use Python 3.6 or above (don't use python 2, as we will not be able to run your code).\n",
        "#### Step 1 - Install Python\n",
        "There are several ways to install Python. From my experience, it is best to use [Anaconda](https://www.anaconda.com/distribution/#linux) packages. In course excersizes you will be allowed to use only basic packages, most of them are installed with Anaconda.\n",
        "We will publish on the moodle an Anaconda environment file which automatically sets up the correct environment for each homework assignment.\n",
        "\n",
        "\n",
        "1.   Go to the attached link\n",
        "2.   Download the version you want (windows/mac/linux, python3 or above)\n",
        "3.   Install :)\n",
        "\n",
        "\n",
        "#### Step 2 - Install IDE\n",
        "I recommend to use [PyCharm](https://www.jetbrains.com/pycharm/). There is a free version called \"community edition\", which is free for everyone, and a \"professional edition\" which you can use for free as students (but this is unnecessary for HW1 and HW2). The exercise can be also be solved using Jupyter notebooks. It comes by default with Anaconda package.\n",
        "\n",
        "#### Step 3 - Starting a new project in pycharm\n",
        "After opening a new project, go to: file>settings>Project:[Your Project Name]>Project Interpreter> Add new interpreter with the address of the installed anaconda. (the address should end with /anaconda3/bin/python.exe).\n",
        "\n",
        "#### Step 4 - Start writing code\n",
        "Now your project in pycharm is using anaconda packages, and you can import the necessary packages (like Numpy, Pandas, etc.) and use its functions.\n",
        "\n",
        "\n",
        "#### Notes for using Pycharm\n",
        "* The code presented below can run in pycharm, all you need to do is create a virtualenv which contains 'numpy', 'pandas', 'matplotlib'\n",
        "\n",
        "#### Notes for using Colab\n",
        "* To run a code block, select it (with mouse) and press Ctrl + Enter to run it or Shift + Enter to run it and move on to the next block.\n",
        "* To get description of functions and classes, run `help(name_of_function)`.\n",
        "* To dislplay lines in the code block, select the block, press ESC and then 'L'.\n",
        "* To quick view a function description, write its name and press Shift + TAB.\n",
        "    * For example, in a code block, write `sum` and press Shift + TAB.\n"
      ]
    },
    {
      "cell_type": "markdown",
      "metadata": {
        "id": "QA34c8JzEb3x",
        "colab_type": "text"
      },
      "source": [
        "## Part 1 -Basic Data Structures\n",
        "\n",
        "First we discuss some of the most basics structures in python:\n",
        "\n",
        "\n",
        "1.   Lists\n",
        "2.   Dictionaries\n",
        "3.   Tuples\n",
        "4.   Classes\n"
      ]
    },
    {
      "cell_type": "markdown",
      "metadata": {
        "id": "p0PAXVdMDVJs",
        "colab_type": "text"
      },
      "source": [
        "### Lists"
      ]
    },
    {
      "cell_type": "code",
      "metadata": {
        "id": "l9wN9H6TFOS_",
        "colab_type": "code",
        "outputId": "5d92fa59-1f72-47fe-b0a2-fbca649113f0",
        "colab": {
          "base_uri": "https://localhost:8080/",
          "height": 51
        }
      },
      "source": [
        "empty_list = []  # an empty list\n",
        "basic_list = [1, 4, 2] # non empty list\n",
        "print(\"Empty list =\", empty_list)\n",
        "print(\"Basic list =\", basic_list)\n",
        "\n"
      ],
      "execution_count": 0,
      "outputs": [
        {
          "output_type": "stream",
          "text": [
            "Empty list = []\n",
            "Basic list = [1, 4, 2]\n"
          ],
          "name": "stdout"
        }
      ]
    },
    {
      "cell_type": "code",
      "metadata": {
        "id": "Y03msomyGQNO",
        "colab_type": "code",
        "outputId": "9141cdc6-ca97-4055-f0db-5fae34d236af",
        "colab": {
          "base_uri": "https://localhost:8080/",
          "height": 85
        }
      },
      "source": [
        "# Now lets add items to the list\n",
        "empty_list.append(3)\n",
        "print(\"Empty list =\", empty_list)\n",
        "empty_list.append([3,2])\n",
        "print(\"Empty list =\", empty_list)\n",
        "empty_list.append(\"Banana\")\n",
        "print(\"Empty list =\", empty_list)\n",
        "empty_list.extend([3,2])\n",
        "print(\"Empty list =\", empty_list)"
      ],
      "execution_count": 0,
      "outputs": [
        {
          "output_type": "stream",
          "text": [
            "Empty list = [3]\n",
            "Empty list = [3, [3, 2]]\n",
            "Empty list = [3, [3, 2], 'Banana']\n",
            "Empty list = [3, [3, 2], 'Banana', 3, 2]\n"
          ],
          "name": "stdout"
        }
      ]
    },
    {
      "cell_type": "code",
      "metadata": {
        "id": "SAEOfG0UGWC8",
        "colab_type": "code",
        "outputId": "e3d17d34-5ddb-49d4-8a24-87a8fb837ec9",
        "colab": {
          "base_uri": "https://localhost:8080/",
          "height": 34
        }
      },
      "source": [
        "# Use list in for loop\n",
        "idx_list_a = [1, 5, 78]\n",
        "idx_list_b = [5, 6, 79]\n",
        "\n",
        "for elem in idx_list_a:\n",
        "  if elem in idx_list_b:\n",
        "    print(elem)\n",
        "  "
      ],
      "execution_count": 0,
      "outputs": [
        {
          "output_type": "stream",
          "text": [
            "5\n"
          ],
          "name": "stdout"
        }
      ]
    },
    {
      "cell_type": "code",
      "metadata": {
        "id": "44v1jqFGHw74",
        "colab_type": "code",
        "outputId": "12ef552d-ff36-45e0-81db-bf468c453468",
        "colab": {
          "base_uri": "https://localhost:8080/",
          "height": 34
        }
      },
      "source": [
        "idx_list_a = [1, 5, 78]\n",
        "idx_list_b = [5, 6, 79]\n",
        "\n",
        "print(idx_list_a + idx_list_b)"
      ],
      "execution_count": 0,
      "outputs": [
        {
          "output_type": "stream",
          "text": [
            "[1, 5, 78, 5, 6, 79]\n"
          ],
          "name": "stdout"
        }
      ]
    },
    {
      "cell_type": "markdown",
      "metadata": {
        "id": "BVmUQbBDPt9b",
        "colab_type": "text"
      },
      "source": [
        "### Dictionaries\n",
        "Unlike sequences, which are indexed by a range of numbers, dictionaries are indexed by keys, which can be any immutable type; strings and numbers can always be keys. Tuples can be used as keys if they contain only strings, numbers, or tuples."
      ]
    },
    {
      "cell_type": "code",
      "metadata": {
        "id": "2q-jPoUFIGnk",
        "colab_type": "code",
        "outputId": "89ab9bb4-f2fa-49b3-ec76-67f62f42a03d",
        "colab": {
          "base_uri": "https://localhost:8080/",
          "height": 363
        }
      },
      "source": [
        "tel = {}  # empty dictionary\n",
        "chars = {'a':1, 'b':2, 'c':3}\n",
        "\n",
        "for elem in chars:\n",
        "  print(\"key is -\", elem, \", value is -\", chars[elem])\n",
        "  \n",
        "\n",
        "tel['jack'] = 4098\n",
        "tel['sape'] = 4139\n",
        "for name, tel_num in tel.items():\n",
        "  print(\"key is -\", name, \", value is -\", tel_num)\n",
        "  \n",
        "tel['sophie and john'] = 4233\n",
        "\n",
        "print('')\n",
        "print('Lookup for specific tel')\n",
        "print(tel['sophie and john'])\n",
        "print('Lookup for missing tel')\n",
        "print(tel.get('dan', \"couldn't find tel\"))\n",
        "print(tel['dan'])"
      ],
      "execution_count": 2,
      "outputs": [
        {
          "output_type": "stream",
          "text": [
            "key is - a , value is - 1\n",
            "key is - b , value is - 2\n",
            "key is - c , value is - 3\n",
            "key is - jack , value is - 4098\n",
            "key is - sape , value is - 4139\n",
            "\n",
            "Lookup for specific tel\n",
            "4233\n",
            "Lookup for missing tel\n",
            "couldn't find tel\n"
          ],
          "name": "stdout"
        },
        {
          "output_type": "error",
          "ename": "KeyError",
          "evalue": "ignored",
          "traceback": [
            "\u001b[0;31m---------------------------------------------------------------------------\u001b[0m",
            "\u001b[0;31mKeyError\u001b[0m                                  Traceback (most recent call last)",
            "\u001b[0;32m<ipython-input-2-dc9fb18d7c5f>\u001b[0m in \u001b[0;36m<module>\u001b[0;34m()\u001b[0m\n\u001b[1;32m     18\u001b[0m \u001b[0mprint\u001b[0m\u001b[0;34m(\u001b[0m\u001b[0;34m'Lookup for missing tel'\u001b[0m\u001b[0;34m)\u001b[0m\u001b[0;34m\u001b[0m\u001b[0;34m\u001b[0m\u001b[0m\n\u001b[1;32m     19\u001b[0m \u001b[0mprint\u001b[0m\u001b[0;34m(\u001b[0m\u001b[0mtel\u001b[0m\u001b[0;34m.\u001b[0m\u001b[0mget\u001b[0m\u001b[0;34m(\u001b[0m\u001b[0;34m'dan'\u001b[0m\u001b[0;34m,\u001b[0m \u001b[0;34m\"couldn't find tel\"\u001b[0m\u001b[0;34m)\u001b[0m\u001b[0;34m)\u001b[0m\u001b[0;34m\u001b[0m\u001b[0;34m\u001b[0m\u001b[0m\n\u001b[0;32m---> 20\u001b[0;31m \u001b[0mprint\u001b[0m\u001b[0;34m(\u001b[0m\u001b[0mtel\u001b[0m\u001b[0;34m[\u001b[0m\u001b[0;34m'dan'\u001b[0m\u001b[0;34m]\u001b[0m\u001b[0;34m)\u001b[0m\u001b[0;34m\u001b[0m\u001b[0;34m\u001b[0m\u001b[0m\n\u001b[0m",
            "\u001b[0;31mKeyError\u001b[0m: 'dan'"
          ]
        }
      ]
    },
    {
      "cell_type": "markdown",
      "metadata": {
        "id": "tDQMTQC2K9bu",
        "colab_type": "text"
      },
      "source": [
        "#### Interesting thing about Dictionaries\n",
        "Searching according to a value inside a dictionary is very fast. It is way better than running a for loop on a gigantic list or searching inside a numpy array (which we haven't seen yet)."
      ]
    },
    {
      "cell_type": "code",
      "metadata": {
        "id": "WshvmRfHLp18",
        "colab_type": "code",
        "outputId": "20621a4a-1619-4574-c6f1-db444452f920",
        "colab": {
          "base_uri": "https://localhost:8080/",
          "height": 85
        }
      },
      "source": [
        "import time\n",
        "import numpy as np\n",
        "\n",
        "sparse_dict = {}\n",
        "sparse_list = []\n",
        "for i in range(10000):\n",
        "  if (i+1) % 5002 == 0:\n",
        "    sparse_dict['special_key'] = i+1\n",
        "    sparse_list.append('special_key')\n",
        "  else:\n",
        "    sparse_dict[str(i+1)] = i+1\n",
        "    sparse_list.append(i+1)\n",
        "\n",
        "# now lets check the what is the index of the special key, and check how much\n",
        "# time it takes\n",
        "start = time.time()\n",
        "print(sparse_dict['special_key'])\n",
        "end = time.time()\n",
        "print(\"Total run-time in seconds for dictionary search\", end - start)\n",
        "\n",
        "# Searching inside a list\n",
        "start = time.time()\n",
        "for ind, elem in enumerate(sparse_list):\n",
        "  if elem == 'special_key':\n",
        "    print(ind+1)\n",
        "    break\n",
        "end = time.time()\n",
        "print(\"Total run-time in seconds for list search\", end - start)"
      ],
      "execution_count": 0,
      "outputs": [
        {
          "output_type": "stream",
          "text": [
            "5002\n",
            "Total run-time in seconds for dictionary search 0.0007908344268798828\n",
            "5002\n",
            "Total run-time in seconds for list search 0.0013413429260253906\n"
          ],
          "name": "stdout"
        }
      ]
    },
    {
      "cell_type": "markdown",
      "metadata": {
        "id": "NFQCnAtKBVWs",
        "colab_type": "text"
      },
      "source": [
        "##### `collections`\n",
        "The `collections` standard package contains useful special types of dictionaries, such as:\n",
        "* `defaultdict` (default value type - faster, no type checking)\n",
        "* `Counter` (holds a count integer for each key)\n",
        "* `OrderedDict` (preserves the order of insertion for keys)\n",
        "* `namedtuple` (immutable tuple which values are referenced by name)\n",
        "\n",
        "See [documentation](https://docs.python.org/3.8/library/collections.html) for further details.\n"
      ]
    },
    {
      "cell_type": "markdown",
      "metadata": {
        "id": "_NwOvrJ9KORz",
        "colab_type": "text"
      },
      "source": [
        "### Tuples\n",
        "Tuples are immutable arrays - once defined, they can't be changed "
      ]
    },
    {
      "cell_type": "code",
      "metadata": {
        "id": "zhFuP47eKk4x",
        "colab_type": "code",
        "outputId": "738fba82-a753-4cbc-d832-dd266f74bb13",
        "colab": {
          "base_uri": "https://localhost:8080/",
          "height": 102
        }
      },
      "source": [
        "names = ('Zach', 'Jay') # Note the parentheses\n",
        "print(\"names =\", names) \n",
        "print(\"names[0] =\", names[0])\n",
        "print(\"Tuple length -\", len(names))\n",
        "\n",
        "empty = tuple() # Empty tuple\n",
        "print(\"empty =\", empty)\n",
        "single = (10,) # Single-element tuple. Comma matters!\n",
        "print(\"single =\", single)\n"
      ],
      "execution_count": 0,
      "outputs": [
        {
          "output_type": "stream",
          "text": [
            "names = ('Zach', 'Jay')\n",
            "names[0] = Zach\n",
            "Tuple length - 2\n",
            "empty = ()\n",
            "single = (10,)\n"
          ],
          "name": "stdout"
        }
      ]
    },
    {
      "cell_type": "code",
      "metadata": {
        "id": "mhDEl1U8O2z5",
        "colab_type": "code",
        "outputId": "81901954-d5a2-4b14-e630-f0003e3671ad",
        "colab": {
          "base_uri": "https://localhost:8080/",
          "height": 129
        }
      },
      "source": [
        "names[0] = ‘Richard’ # Should give a type error because tuple are immutable"
      ],
      "execution_count": 0,
      "outputs": [
        {
          "output_type": "error",
          "ename": "SyntaxError",
          "evalue": "ignored",
          "traceback": [
            "\u001b[0;36m  File \u001b[0;32m\"<ipython-input-55-779e0bcac617>\"\u001b[0;36m, line \u001b[0;32m1\u001b[0m\n\u001b[0;31m    names[0] = ‘Richard’ # Should give a type error because tuple are immutable\u001b[0m\n\u001b[0m                       ^\u001b[0m\n\u001b[0;31mSyntaxError\u001b[0m\u001b[0;31m:\u001b[0m invalid character in identifier\n"
          ]
        }
      ]
    },
    {
      "cell_type": "markdown",
      "metadata": {
        "id": "UHpnaoynPoPe",
        "colab_type": "text"
      },
      "source": [
        "### Classes\n"
      ]
    },
    {
      "cell_type": "code",
      "metadata": {
        "id": "SbIksfvvPzQO",
        "colab_type": "code",
        "colab": {}
      },
      "source": [
        "class Animal(object):\n",
        "  \n",
        "  def __init__(self, species, age): # Constructor `a = Animal(‘bird’, 10)`\n",
        "    self.species = species # Refer to instance with `self`\n",
        "    self.age = age # All instance variables are public\n",
        "    \n",
        "  def isPerson(self): # Invoked with `a.isPerson()`\n",
        "    return self.species == \"Homo Sapiens\"\n",
        "  \n",
        "  def ageOneYear(self):\n",
        "    self.age += 1\n",
        "\n",
        " \n",
        "class Dog(Animal): # Inherits Animal’s methods\n",
        "  \n",
        "  def ageOneYear(self): # Override for dog years\n",
        "    self.age += 7"
      ],
      "execution_count": 0,
      "outputs": []
    },
    {
      "cell_type": "markdown",
      "metadata": {
        "id": "tW7u-XAzDQXg",
        "colab_type": "text"
      },
      "source": [
        "## Part 2 - Basic packages - NumPy, Pandas, Matplotlib\n",
        "\n",
        "### <img src=\"https://img.icons8.com/bubbles/50/000000/checklist.png\" style=\"height:50px;display:inline\"> Agenda\n",
        "\n",
        "* Getting to Know Python \n",
        "    * NumPy\n",
        "    * Pandas\n",
        "    * Matplotlib\n",
        "    \n"
      ]
    },
    {
      "cell_type": "markdown",
      "metadata": {
        "id": "vN8JG4VTDljy",
        "colab_type": "text"
      },
      "source": [
        "## <img src=\"https://img.icons8.com/clouds/100/000000/calculator.png\" style=\"height:50px;display:inline\"> NumPy\n",
        "\n",
        "NumPy is the fundamental package for scientific computing with Python. It contains among other things:\n",
        "\n",
        "* A powerful N-dimensional array object\n",
        "\n",
        "* Sophisticated (broadcasting) functions\n",
        "\n",
        "* Tools for integrating C/C++ and Fortran code\n",
        "\n",
        "* Useful linear algebra, Fourier transform, and random number capabilities\n",
        "\n",
        "Besides its obvious scientific uses, NumPy can also be used as an efficient multi-dimensional container of generic data. Arbitrary data-types can be defined. This allows NumPy to seamlessly and speedily integrate with a wide variety of databases\n",
        "\n"
      ]
    },
    {
      "cell_type": "code",
      "metadata": {
        "id": "pIhYLV6fDlj0",
        "colab_type": "code",
        "colab": {}
      },
      "source": [
        "# import numpy\n",
        "import numpy as np"
      ],
      "execution_count": 0,
      "outputs": []
    },
    {
      "cell_type": "markdown",
      "metadata": {
        "id": "w8_zqwIIDlj8",
        "colab_type": "text"
      },
      "source": [
        "### Numpy Array\n",
        "#### 1D List -> NumPy Array"
      ]
    },
    {
      "cell_type": "code",
      "metadata": {
        "id": "clHLwAS1Dlj-",
        "colab_type": "code",
        "outputId": "f4a39416-df1b-443b-f748-ed1dbcd30c44",
        "colab": {
          "base_uri": "https://localhost:8080/",
          "height": 51
        }
      },
      "source": [
        "vec = [1, 2, 3]        # list\n",
        "np_vec = np.array(vec) # array\n",
        "print(type(np_vec))    # check the type\n",
        "print(np_vec)          # print the array"
      ],
      "execution_count": 0,
      "outputs": [
        {
          "output_type": "stream",
          "text": [
            "<class 'numpy.ndarray'>\n",
            "[1 2 3]\n"
          ],
          "name": "stdout"
        }
      ]
    },
    {
      "cell_type": "markdown",
      "metadata": {
        "id": "HowdtThKDlkD",
        "colab_type": "text"
      },
      "source": [
        "#### 2D Matrix -> Numpy Array"
      ]
    },
    {
      "cell_type": "code",
      "metadata": {
        "scrolled": true,
        "id": "n56wlydiDlkF",
        "colab_type": "code",
        "outputId": "49758463-82f1-48c6-8b10-847bb80e028d",
        "colab": {
          "base_uri": "https://localhost:8080/",
          "height": 84
        }
      },
      "source": [
        "mat = [[2, 6, 8], [3, 7, 0]] # 2d list\n",
        "np_mat = np.array(mat)     # 2d ndarray\n",
        "np_mat_b = np.asarray(mat) # yet another option to extract array out of list\n",
        "print(np_mat) # print the matrix\n",
        "print(np_mat_b)"
      ],
      "execution_count": 7,
      "outputs": [
        {
          "output_type": "stream",
          "text": [
            "[[2 6 8]\n",
            " [3 7 0]]\n",
            "[[2 6 8]\n",
            " [3 7 0]]\n"
          ],
          "name": "stdout"
        }
      ]
    },
    {
      "cell_type": "markdown",
      "metadata": {
        "id": "fPpWW7oAz5yX",
        "colab_type": "text"
      },
      "source": [
        "##### [Sparse 2D Matrix](https://docs.scipy.org/doc/scipy/reference/sparse.html)\n",
        "\n"
      ]
    },
    {
      "cell_type": "code",
      "metadata": {
        "id": "kY9Ucvpsz4wx",
        "colab_type": "code",
        "colab": {
          "base_uri": "https://localhost:8080/",
          "height": 50
        },
        "outputId": "8676c41d-e3d9-441b-9d44-e59e7df215b5"
      },
      "source": [
        "from scipy.sparse import csr_matrix\n",
        "\n",
        "csr_matrix(np_mat)"
      ],
      "execution_count": 8,
      "outputs": [
        {
          "output_type": "execute_result",
          "data": {
            "text/plain": [
              "<2x3 sparse matrix of type '<class 'numpy.int64'>'\n",
              "\twith 5 stored elements in Compressed Sparse Row format>"
            ]
          },
          "metadata": {
            "tags": []
          },
          "execution_count": 8
        }
      ]
    },
    {
      "cell_type": "markdown",
      "metadata": {
        "id": "PKzThoFTDlkK",
        "colab_type": "text"
      },
      "source": [
        "#### Zeros, Ones, Eye"
      ]
    },
    {
      "cell_type": "code",
      "metadata": {
        "id": "ag8rNITGDlkN",
        "colab_type": "code",
        "outputId": "574123cb-3b46-4aa1-c1ed-125de8cfd1a2",
        "colab": {
          "base_uri": "https://localhost:8080/",
          "height": 221
        }
      },
      "source": [
        "# zeros, just like matlab\n",
        "zero_arr = np.zeros((3,4))\n",
        "print(\"zeros:\")\n",
        "print(zero_arr)\n",
        "# ones, just like matlab\n",
        "print(\"ones:\")\n",
        "one_arr = np.ones((3,4))\n",
        "print(one_arr)\n",
        "# identity matrix, just like matlab\n",
        "print(\"eye:\")\n",
        "eye_arr = np.eye(3)\n",
        "print(eye_arr)"
      ],
      "execution_count": 0,
      "outputs": [
        {
          "output_type": "stream",
          "text": [
            "zeros:\n",
            "[[0. 0. 0. 0.]\n",
            " [0. 0. 0. 0.]\n",
            " [0. 0. 0. 0.]]\n",
            "ones:\n",
            "[[1. 1. 1. 1.]\n",
            " [1. 1. 1. 1.]\n",
            " [1. 1. 1. 1.]]\n",
            "eye:\n",
            "[[1. 0. 0.]\n",
            " [0. 1. 0.]\n",
            " [0. 0. 1.]]\n"
          ],
          "name": "stdout"
        }
      ]
    },
    {
      "cell_type": "markdown",
      "metadata": {
        "id": "dEnnqcBEDlkU",
        "colab_type": "text"
      },
      "source": [
        "### Random\n",
        "#### Create Random Arrays and Numbers with NumPy"
      ]
    },
    {
      "cell_type": "code",
      "metadata": {
        "id": "Mjq2nyboDlkW",
        "colab_type": "code",
        "outputId": "3403d912-ee21-4f2a-80f6-9ff1d005885d",
        "colab": {
          "base_uri": "https://localhost:8080/",
          "height": 34
        }
      },
      "source": [
        "np.random.randn(5) # 5x1 array with numbers from N(0,1)"
      ],
      "execution_count": 0,
      "outputs": [
        {
          "output_type": "execute_result",
          "data": {
            "text/plain": [
              "array([ 1.52109404, -0.80075989, -0.43575993, -0.3757575 , -1.91200759])"
            ]
          },
          "metadata": {
            "tags": []
          },
          "execution_count": 61
        }
      ]
    },
    {
      "cell_type": "code",
      "metadata": {
        "id": "aqPlQ01bDlkc",
        "colab_type": "code",
        "outputId": "d631ba87-60b0-49f0-a88f-2955d6c7a712",
        "colab": {
          "base_uri": "https://localhost:8080/",
          "height": 68
        }
      },
      "source": [
        "np.random.randn(3,4) # 3x4 matrix with numbers from N(0,1)"
      ],
      "execution_count": 0,
      "outputs": [
        {
          "output_type": "execute_result",
          "data": {
            "text/plain": [
              "array([[-0.76604104, -0.9119544 ,  0.35446249, -0.11494389],\n",
              "       [-1.17445085,  0.09023154, -3.00393897, -1.85853256],\n",
              "       [ 1.16608021, -0.22886619,  0.23184856,  1.39168818]])"
            ]
          },
          "metadata": {
            "tags": []
          },
          "execution_count": 62
        }
      ]
    },
    {
      "cell_type": "code",
      "metadata": {
        "id": "7B86fICuDlkh",
        "colab_type": "code",
        "outputId": "586cb726-40f3-4ea0-c898-1798b9e2ea7f",
        "colab": {
          "base_uri": "https://localhost:8080/",
          "height": 34
        }
      },
      "source": [
        "np.random.randint(5, 15) # random integer between start (5) and end (15)"
      ],
      "execution_count": 0,
      "outputs": [
        {
          "output_type": "execute_result",
          "data": {
            "text/plain": [
              "8"
            ]
          },
          "metadata": {
            "tags": []
          },
          "execution_count": 63
        }
      ]
    },
    {
      "cell_type": "code",
      "metadata": {
        "id": "_VkT1UMmDlkm",
        "colab_type": "code",
        "outputId": "aa0be0d6-cebc-49db-9342-cb12cc6e77b5",
        "colab": {
          "base_uri": "https://localhost:8080/",
          "height": 34
        }
      },
      "source": [
        "np.random.randint(5, 150, 5) # multiple (5) random numbers between specified range"
      ],
      "execution_count": 0,
      "outputs": [
        {
          "output_type": "execute_result",
          "data": {
            "text/plain": [
              "array([ 92,  29,  14, 135,  24])"
            ]
          },
          "metadata": {
            "tags": []
          },
          "execution_count": 64
        }
      ]
    },
    {
      "cell_type": "markdown",
      "metadata": {
        "id": "uHFLqxm9Dlku",
        "colab_type": "text"
      },
      "source": [
        "### Series of Numbers\n",
        "#### arange, linspace"
      ]
    },
    {
      "cell_type": "code",
      "metadata": {
        "id": "LuxklzT-Dlky",
        "colab_type": "code",
        "outputId": "088e6ee9-a093-4ca0-f319-aad3d5a17106",
        "colab": {
          "base_uri": "https://localhost:8080/",
          "height": 34
        }
      },
      "source": [
        "np.arange(3, 12) # 3, 4..., 11"
      ],
      "execution_count": 0,
      "outputs": [
        {
          "output_type": "execute_result",
          "data": {
            "text/plain": [
              "array([ 3,  4,  5,  6,  7,  8,  9, 10, 11])"
            ]
          },
          "metadata": {
            "tags": []
          },
          "execution_count": 65
        }
      ]
    },
    {
      "cell_type": "code",
      "metadata": {
        "id": "TDHnV1OYDlk7",
        "colab_type": "code",
        "outputId": "46df4771-01d7-45ca-84d4-e81232060b6d",
        "colab": {
          "base_uri": "https://localhost:8080/",
          "height": 34
        }
      },
      "source": [
        "np.arange(3, 12, 2) # with a step of 2"
      ],
      "execution_count": 0,
      "outputs": [
        {
          "output_type": "execute_result",
          "data": {
            "text/plain": [
              "array([ 3,  5,  7,  9, 11])"
            ]
          },
          "metadata": {
            "tags": []
          },
          "execution_count": 66
        }
      ]
    },
    {
      "cell_type": "code",
      "metadata": {
        "id": "Y9znjdZjDllB",
        "colab_type": "code",
        "outputId": "fe96e882-eda4-451f-f73e-e6995c489781",
        "colab": {
          "base_uri": "https://localhost:8080/",
          "height": 187
        }
      },
      "source": [
        "np.linspace(2, 5) # as in matlab default count is 50 -- third argument"
      ],
      "execution_count": 0,
      "outputs": [
        {
          "output_type": "execute_result",
          "data": {
            "text/plain": [
              "array([2.        , 2.06122449, 2.12244898, 2.18367347, 2.24489796,\n",
              "       2.30612245, 2.36734694, 2.42857143, 2.48979592, 2.55102041,\n",
              "       2.6122449 , 2.67346939, 2.73469388, 2.79591837, 2.85714286,\n",
              "       2.91836735, 2.97959184, 3.04081633, 3.10204082, 3.16326531,\n",
              "       3.2244898 , 3.28571429, 3.34693878, 3.40816327, 3.46938776,\n",
              "       3.53061224, 3.59183673, 3.65306122, 3.71428571, 3.7755102 ,\n",
              "       3.83673469, 3.89795918, 3.95918367, 4.02040816, 4.08163265,\n",
              "       4.14285714, 4.20408163, 4.26530612, 4.32653061, 4.3877551 ,\n",
              "       4.44897959, 4.51020408, 4.57142857, 4.63265306, 4.69387755,\n",
              "       4.75510204, 4.81632653, 4.87755102, 4.93877551, 5.        ])"
            ]
          },
          "metadata": {
            "tags": []
          },
          "execution_count": 67
        }
      ]
    },
    {
      "cell_type": "code",
      "metadata": {
        "id": "7CS7GqKKDllF",
        "colab_type": "code",
        "outputId": "23df206e-9605-4084-8683-6daf666fb0ae",
        "colab": {
          "base_uri": "https://localhost:8080/",
          "height": 51
        }
      },
      "source": [
        "np.linspace(2, 5, 10) # third argument specifies the count of numbers"
      ],
      "execution_count": 0,
      "outputs": [
        {
          "output_type": "execute_result",
          "data": {
            "text/plain": [
              "array([2.        , 2.33333333, 2.66666667, 3.        , 3.33333333,\n",
              "       3.66666667, 4.        , 4.33333333, 4.66666667, 5.        ])"
            ]
          },
          "metadata": {
            "tags": []
          },
          "execution_count": 68
        }
      ]
    },
    {
      "cell_type": "markdown",
      "metadata": {
        "id": "5ZYKPdl5DllM",
        "colab_type": "text"
      },
      "source": [
        "### NumPy Operations\n",
        "\n",
        "Very similar to MATLAB"
      ]
    },
    {
      "cell_type": "code",
      "metadata": {
        "id": "emNaUqUnDllO",
        "colab_type": "code",
        "outputId": "027b61e9-2010-49e9-b6fd-91f70c798d68",
        "colab": {
          "base_uri": "https://localhost:8080/",
          "height": 51
        }
      },
      "source": [
        "# dimensions of arrays\n",
        "print(np_vec.shape)\n",
        "print(np_mat.shape)"
      ],
      "execution_count": 0,
      "outputs": [
        {
          "output_type": "stream",
          "text": [
            "(3,)\n",
            "(2, 3)\n"
          ],
          "name": "stdout"
        }
      ]
    },
    {
      "cell_type": "code",
      "metadata": {
        "id": "ttjlyyVUDllT",
        "colab_type": "code",
        "outputId": "38df604e-9bba-4d41-a107-75bd395099d6",
        "colab": {
          "base_uri": "https://localhost:8080/",
          "height": 51
        }
      },
      "source": [
        "# maximum and minimum\n",
        "print(\"max: {}\".format(np_mat.max()))\n",
        "print(\"min: {}\".format(np_mat.min()))"
      ],
      "execution_count": 0,
      "outputs": [
        {
          "output_type": "stream",
          "text": [
            "max: 8\n",
            "min: 0\n"
          ],
          "name": "stdout"
        }
      ]
    },
    {
      "cell_type": "code",
      "metadata": {
        "id": "s9t-JD0RDllZ",
        "colab_type": "code",
        "outputId": "10735932-a807-43ca-86e2-00411529f5bd",
        "colab": {
          "base_uri": "https://localhost:8080/",
          "height": 289
        }
      },
      "source": [
        "# reshape\n",
        "print(\"Origin mat:\")\n",
        "print(np_mat)\n",
        "print(\"---reshape---\")\n",
        "print(\"First option:\")\n",
        "print(np_mat.reshape(3,2)) # change dimensions -- only if the total number of values remains the same\n",
        "print(\"Second option:\")\n",
        "print(np_mat.reshape(3,-1)) # in case only first dimension is known\n",
        "print(\"Third option:\")\n",
        "print(np_mat.reshape(-1,2)) # in case only second dimension is known "
      ],
      "execution_count": 0,
      "outputs": [
        {
          "output_type": "stream",
          "text": [
            "Origin mat:\n",
            "[[2 6 8]\n",
            " [3 7 0]]\n",
            "---reshape---\n",
            "First option:\n",
            "[[2 6]\n",
            " [8 3]\n",
            " [7 0]]\n",
            "Second option:\n",
            "[[2 6]\n",
            " [8 3]\n",
            " [7 0]]\n",
            "Third option:\n",
            "[[2 6]\n",
            " [8 3]\n",
            " [7 0]]\n"
          ],
          "name": "stdout"
        }
      ]
    },
    {
      "cell_type": "code",
      "metadata": {
        "id": "hzdDgRYNDllg",
        "colab_type": "code",
        "outputId": "d22fb7ac-47db-4a86-97ee-9aec5ecb224a",
        "colab": {
          "base_uri": "https://localhost:8080/",
          "height": 163
        }
      },
      "source": [
        "np_mat.reshape(3, 4) # error since total number of elements changes"
      ],
      "execution_count": 0,
      "outputs": [
        {
          "output_type": "error",
          "ename": "ValueError",
          "evalue": "ignored",
          "traceback": [
            "\u001b[0;31m---------------------------------------------------------------------------\u001b[0m",
            "\u001b[0;31mValueError\u001b[0m                                Traceback (most recent call last)",
            "\u001b[0;32m<ipython-input-72-94d8dbb45458>\u001b[0m in \u001b[0;36m<module>\u001b[0;34m()\u001b[0m\n\u001b[0;32m----> 1\u001b[0;31m \u001b[0mnp_mat\u001b[0m\u001b[0;34m.\u001b[0m\u001b[0mreshape\u001b[0m\u001b[0;34m(\u001b[0m\u001b[0;36m3\u001b[0m\u001b[0;34m,\u001b[0m \u001b[0;36m4\u001b[0m\u001b[0;34m)\u001b[0m \u001b[0;31m# error since total number of elements changes\u001b[0m\u001b[0;34m\u001b[0m\u001b[0;34m\u001b[0m\u001b[0m\n\u001b[0m",
            "\u001b[0;31mValueError\u001b[0m: cannot reshape array of size 6 into shape (3,4)"
          ]
        }
      ]
    },
    {
      "cell_type": "markdown",
      "metadata": {
        "id": "m4bpHkToDllm",
        "colab_type": "text"
      },
      "source": [
        "### Numpy Array Operations\n",
        "#### Operations between arrays and scalars"
      ]
    },
    {
      "cell_type": "code",
      "metadata": {
        "id": "NLXvArVKDllo",
        "colab_type": "code",
        "outputId": "7ce74305-89c6-4b0b-8d53-fd32dc8e7b31",
        "colab": {
          "base_uri": "https://localhost:8080/",
          "height": 289
        }
      },
      "source": [
        "a = np.array([0, 1, 2, 3, 4, 5])\n",
        "print(\"a = \")\n",
        "print(a)\n",
        "print(\"a + 7 = \")\n",
        "print(a + 7) # add 7 to each element\n",
        "print(\"a + 2 = \")\n",
        "print(a - 2)\n",
        "print(\"a / 2 = \")\n",
        "print(a / 2)\n",
        "print(\"a * 3 = \")\n",
        "print(a * 3)\n",
        "print(\"sin(a) = \")\n",
        "print(np.sin(a)) # sin() of each element, same dimensions\n",
        "print(\"sum(a) = \")\n",
        "print(np.sum(a)) # sum of all elements\n",
        "print(\"mean(a) = \")\n",
        "print(np.mean(a)) # mean of the array"
      ],
      "execution_count": 0,
      "outputs": [
        {
          "output_type": "stream",
          "text": [
            "a = \n",
            "[0 1 2 3 4 5]\n",
            "a + 7 = \n",
            "[ 7  8  9 10 11 12]\n",
            "a + 2 = \n",
            "[-2 -1  0  1  2  3]\n",
            "a / 2 = \n",
            "[0.  0.5 1.  1.5 2.  2.5]\n",
            "a * 3 = \n",
            "[ 0  3  6  9 12 15]\n",
            "sin(a) = \n",
            "[ 0.          0.84147098  0.90929743  0.14112001 -0.7568025  -0.95892427]\n",
            "sum(a) = \n",
            "15\n",
            "mean(a) = \n",
            "2.5\n"
          ],
          "name": "stdout"
        }
      ]
    },
    {
      "cell_type": "code",
      "metadata": {
        "id": "U5_ruuD0Dllv",
        "colab_type": "code",
        "outputId": "d2ad27a3-cbdd-4cae-bcdd-19de65c37bdb",
        "colab": {
          "base_uri": "https://localhost:8080/",
          "height": 119
        }
      },
      "source": [
        "a1 = np.array([[1, 3], [4, 6]])\n",
        "print(\"a1 = \")\n",
        "print(a1)\n",
        "b1 = np.array([[0, 2], [3, 1]])\n",
        "print(\"b1 = \")\n",
        "print(b1)"
      ],
      "execution_count": 0,
      "outputs": [
        {
          "output_type": "stream",
          "text": [
            "a1 = \n",
            "[[1 3]\n",
            " [4 6]]\n",
            "b1 = \n",
            "[[0 2]\n",
            " [3 1]]\n"
          ],
          "name": "stdout"
        }
      ]
    },
    {
      "cell_type": "code",
      "metadata": {
        "id": "i6btKJOpDlmP",
        "colab_type": "code",
        "outputId": "f190d5da-6e59-4f98-cd80-2ff27500e53d",
        "colab": {
          "base_uri": "https://localhost:8080/",
          "height": 221
        }
      },
      "source": [
        "print(\"a1 + b1 = \")\n",
        "print(a1 + b1)\n",
        "print(\"a1 * b1 = \")\n",
        "print(a1 * b1) # element-wise multiplication\n",
        "print(\"matrix multiplication: np.dot(a1, b1) = \")\n",
        "print(np.dot(a1, b1)) # matrix multiplication\n",
        "print(\"np.dot() is the same as using @: a1 @ b1 = \")\n",
        "print(a1 @ b1) # matrix multiplication"
      ],
      "execution_count": 0,
      "outputs": [
        {
          "output_type": "stream",
          "text": [
            "a1 + b1 = \n",
            "[[1 5]\n",
            " [7 7]]\n",
            "a1 * b1 = \n",
            "[[ 0  6]\n",
            " [12  6]]\n",
            "matrix multiplication: np.dot(a1, b1) = \n",
            "[[ 9  5]\n",
            " [18 14]]\n",
            "np.dot() is the same as using @: a1 @ b1 = \n",
            "[[ 9  5]\n",
            " [18 14]]\n"
          ],
          "name": "stdout"
        }
      ]
    },
    {
      "cell_type": "code",
      "metadata": {
        "id": "lmFEHJrYDlmX",
        "colab_type": "code",
        "outputId": "591566d8-955e-4041-a64e-1073ecf0d7da",
        "colab": {
          "base_uri": "https://localhost:8080/",
          "height": 34
        }
      },
      "source": [
        "# element-wise comparison\n",
        "print(a > 2) # compare each and every element"
      ],
      "execution_count": 0,
      "outputs": [
        {
          "output_type": "stream",
          "text": [
            "[False False False  True  True  True]\n"
          ],
          "name": "stdout"
        }
      ]
    },
    {
      "cell_type": "markdown",
      "metadata": {
        "id": "MxoaEAzrDlmn",
        "colab_type": "text"
      },
      "source": [
        "### Indexing, Slicing, Broadcasting"
      ]
    },
    {
      "cell_type": "code",
      "metadata": {
        "id": "pFQB6y0mDlmr",
        "colab_type": "code",
        "outputId": "a658605d-ebe6-48a7-f5db-bd94997d7a21",
        "colab": {
          "base_uri": "https://localhost:8080/",
          "height": 51
        }
      },
      "source": [
        "d1 = np.arange(25)\n",
        "print(d1)"
      ],
      "execution_count": 0,
      "outputs": [
        {
          "output_type": "stream",
          "text": [
            "[ 0  1  2  3  4  5  6  7  8  9 10 11 12 13 14 15 16 17 18 19 20 21 22 23\n",
            " 24]\n"
          ],
          "name": "stdout"
        }
      ]
    },
    {
      "cell_type": "code",
      "metadata": {
        "id": "nRK3HPgtDlm2",
        "colab_type": "code",
        "outputId": "92cf243e-4d10-4610-ee4d-f463fc72d1b4",
        "colab": {
          "base_uri": "https://localhost:8080/",
          "height": 102
        }
      },
      "source": [
        "d2 = np.arange(25).reshape(5,5)\n",
        "print(d2)"
      ],
      "execution_count": 0,
      "outputs": [
        {
          "output_type": "stream",
          "text": [
            "[[ 0  1  2  3  4]\n",
            " [ 5  6  7  8  9]\n",
            " [10 11 12 13 14]\n",
            " [15 16 17 18 19]\n",
            " [20 21 22 23 24]]\n"
          ],
          "name": "stdout"
        }
      ]
    },
    {
      "cell_type": "code",
      "metadata": {
        "id": "1B1x2Yv5Dlm_",
        "colab_type": "code",
        "outputId": "43c49305-1971-4b4d-c707-3449faf61c35",
        "colab": {
          "base_uri": "https://localhost:8080/",
          "height": 34
        }
      },
      "source": [
        "# slicing\n",
        "d1[4:12] # slicing -- d1[start : end+1]"
      ],
      "execution_count": 0,
      "outputs": [
        {
          "output_type": "execute_result",
          "data": {
            "text/plain": [
              "array([ 4,  5,  6,  7,  8,  9, 10, 11])"
            ]
          },
          "metadata": {
            "tags": []
          },
          "execution_count": 79
        }
      ]
    },
    {
      "cell_type": "code",
      "metadata": {
        "id": "XZRxCUHzDlnC",
        "colab_type": "code",
        "outputId": "46502d10-dea0-48e8-8801-0ccb67ef9840",
        "colab": {
          "base_uri": "https://localhost:8080/",
          "height": 85
        }
      },
      "source": [
        "print(\"d1[4: ] = \")\n",
        "print(d1[4: ])\n",
        "print(\"d1[:13] = \")\n",
        "print(d1[:13])"
      ],
      "execution_count": 0,
      "outputs": [
        {
          "output_type": "stream",
          "text": [
            "d1[4: ] = \n",
            "[ 4  5  6  7  8  9 10 11 12 13 14 15 16 17 18 19 20 21 22 23 24]\n",
            "d1[:13] = \n",
            "[ 0  1  2  3  4  5  6  7  8  9 10 11 12]\n"
          ],
          "name": "stdout"
        }
      ]
    },
    {
      "cell_type": "code",
      "metadata": {
        "id": "6R0hkSjZDlnJ",
        "colab_type": "code",
        "outputId": "c9d81b11-7b94-44fe-91f5-dcea121d6abf",
        "colab": {
          "base_uri": "https://localhost:8080/",
          "height": 119
        }
      },
      "source": [
        "print(\"d2[0,0] = \")\n",
        "print(d2[0,0]) # d2[row, column]\n",
        "print(\"d2[2,] = \")\n",
        "print(d2[2,])\n",
        "print(\"d2[:, 3]\")\n",
        "print(d2[:, 3])"
      ],
      "execution_count": 0,
      "outputs": [
        {
          "output_type": "stream",
          "text": [
            "d2[0,0] = \n",
            "0\n",
            "d2[2,] = \n",
            "[10 11 12 13 14]\n",
            "d2[:, 3]\n",
            "[ 3  8 13 18 23]\n"
          ],
          "name": "stdout"
        }
      ]
    },
    {
      "cell_type": "code",
      "metadata": {
        "scrolled": true,
        "id": "zuFe9R5_DlnN",
        "colab_type": "code",
        "outputId": "9150e7e4-9a74-4b54-801e-6c7f4ad7efff",
        "colab": {
          "base_uri": "https://localhost:8080/",
          "height": 85
        }
      },
      "source": [
        "# broadcasting\n",
        "print(\"d1[0:5] = \")\n",
        "print(d1[0:5])\n",
        "print(\"d1[0:5] = -10\")\n",
        "d1[0:5] = -10 # broadcasting -- Change specific elements of the array\n",
        "print(d1[0:5])"
      ],
      "execution_count": 0,
      "outputs": [
        {
          "output_type": "stream",
          "text": [
            "d1[0:5] = \n",
            "[0 1 2 3 4]\n",
            "d1[0:5] = -10\n",
            "[-10 -10 -10 -10 -10]\n"
          ],
          "name": "stdout"
        }
      ]
    },
    {
      "cell_type": "markdown",
      "metadata": {
        "id": "Mw7-hJYbDlnT",
        "colab_type": "text"
      },
      "source": [
        "## <img src=\"https://img.icons8.com/ios/96/000000/panda-filled.png\" style=\"height:50px;display:inline\"> Pandas\n",
        "\n",
        "Python Library for Data manipulation and Analysis\n",
        " - Provide expressive data structures designed to make working with “relational” or “labeled” data both easy and intuitive.\n",
        " - Aims to be the fundamental high-level building block for doing practical, real world data analysis in Python.\n",
        " - Built on top of NumPy and is intended to integrate well within a scientific computing.\n",
        " - Inspired by R and Excel.\n",
        " \n",
        "Pandas is well suited for many different kinds of data:\n",
        "- **Tabular data** with heterogeneously-typed columns, as in an SQL table or Excel spreadsheet\n",
        "- Ordered and unordered (not necessarily fixed-frequency) **time series data**.\n",
        "- **Arbitrary matrix data** (homogeneously typed or heterogeneous) with row and column labels\n",
        "- Any other form of observational / statistical data sets (can be unlabeled)\n",
        "\n",
        "Two primary data structures\n",
        "- **Series** (1-dimensional) – Similar to a column in Excel’s spreadsheet\n",
        "- **Data Frame** (2-dimensional) – Similar to R’s data frame\n",
        "\n",
        "A few of the things that Pandas does well\n",
        "- Easy handling of **missing data** (represented as NaN)\n",
        "- Automatic and explicit **data alignment**\n",
        "- Read and Analyze **CSV** , Excel Sheets Easily\n",
        "- Operations\n",
        "- Filtering, Group By, Merging, Slicing and Dicing, Pivoting and Reshaping\n",
        "- Plotting graphs\n",
        "\n",
        "Pandas is very useful for interactive data exploration at the data preparation stage of a project\n",
        "\n",
        "The offical guide to Pandas can be found [here](http://pandas-docs.github.io/pandas-docs-travis/10min.html)"
      ]
    },
    {
      "cell_type": "code",
      "metadata": {
        "id": "0RGpjJ5nDlnV",
        "colab_type": "code",
        "colab": {}
      },
      "source": [
        "# import pandas\n",
        "import pandas as pd"
      ],
      "execution_count": 0,
      "outputs": []
    },
    {
      "cell_type": "markdown",
      "metadata": {
        "colab_type": "text",
        "id": "of7RnZdI2aov"
      },
      "source": [
        "**Series** like a column in a spreadsheet."
      ]
    },
    {
      "cell_type": "markdown",
      "metadata": {
        "colab_type": "text",
        "id": "zNJeQjmW2ao2"
      },
      "source": [
        "**DataFrame** like a spreadsheet – a dictionary of Series objects"
      ]
    },
    {
      "cell_type": "code",
      "metadata": {
        "id": "4wM0J2EhDlno",
        "colab_type": "code",
        "outputId": "4fb495f3-b453-4e65-c0a6-b64ac5470bac",
        "colab": {
          "base_uri": "https://localhost:8080/",
          "height": 235
        }
      },
      "source": [
        "data = [['ABC', -3.5, 0.01], ['ABC', -2.3, 0.12], ['DEF', 1.8, 0.03],\n",
        "['DEF', 3.7, 0.01], ['GHI', 0.04, 0.43], ['GHI', -0.1, 0.67]]\n",
        "\n",
        "df = pd.DataFrame(data, columns=['gene', 'log2FC', 'pval'])\n",
        "\n",
        "df"
      ],
      "execution_count": 0,
      "outputs": [
        {
          "output_type": "execute_result",
          "data": {
            "text/html": [
              "<div>\n",
              "<style scoped>\n",
              "    .dataframe tbody tr th:only-of-type {\n",
              "        vertical-align: middle;\n",
              "    }\n",
              "\n",
              "    .dataframe tbody tr th {\n",
              "        vertical-align: top;\n",
              "    }\n",
              "\n",
              "    .dataframe thead th {\n",
              "        text-align: right;\n",
              "    }\n",
              "</style>\n",
              "<table border=\"1\" class=\"dataframe\">\n",
              "  <thead>\n",
              "    <tr style=\"text-align: right;\">\n",
              "      <th></th>\n",
              "      <th>gene</th>\n",
              "      <th>log2FC</th>\n",
              "      <th>pval</th>\n",
              "    </tr>\n",
              "  </thead>\n",
              "  <tbody>\n",
              "    <tr>\n",
              "      <th>0</th>\n",
              "      <td>ABC</td>\n",
              "      <td>-3.50</td>\n",
              "      <td>0.01</td>\n",
              "    </tr>\n",
              "    <tr>\n",
              "      <th>1</th>\n",
              "      <td>ABC</td>\n",
              "      <td>-2.30</td>\n",
              "      <td>0.12</td>\n",
              "    </tr>\n",
              "    <tr>\n",
              "      <th>2</th>\n",
              "      <td>DEF</td>\n",
              "      <td>1.80</td>\n",
              "      <td>0.03</td>\n",
              "    </tr>\n",
              "    <tr>\n",
              "      <th>3</th>\n",
              "      <td>DEF</td>\n",
              "      <td>3.70</td>\n",
              "      <td>0.01</td>\n",
              "    </tr>\n",
              "    <tr>\n",
              "      <th>4</th>\n",
              "      <td>GHI</td>\n",
              "      <td>0.04</td>\n",
              "      <td>0.43</td>\n",
              "    </tr>\n",
              "    <tr>\n",
              "      <th>5</th>\n",
              "      <td>GHI</td>\n",
              "      <td>-0.10</td>\n",
              "      <td>0.67</td>\n",
              "    </tr>\n",
              "  </tbody>\n",
              "</table>\n",
              "</div>"
            ],
            "text/plain": [
              "  gene  log2FC  pval\n",
              "0  ABC   -3.50  0.01\n",
              "1  ABC   -2.30  0.12\n",
              "2  DEF    1.80  0.03\n",
              "3  DEF    3.70  0.01\n",
              "4  GHI    0.04  0.43\n",
              "5  GHI   -0.10  0.67"
            ]
          },
          "metadata": {
            "tags": []
          },
          "execution_count": 84
        }
      ]
    },
    {
      "cell_type": "markdown",
      "metadata": {
        "colab_type": "text",
        "id": "bxOH250q2ao5"
      },
      "source": [
        "### Viewing Data"
      ]
    },
    {
      "cell_type": "markdown",
      "metadata": {
        "colab_type": "text",
        "id": "uXVA81o72ao6"
      },
      "source": [
        "Display the top and bottom rows of the frame"
      ]
    },
    {
      "cell_type": "code",
      "metadata": {
        "id": "anVjFDH8Dlnw",
        "colab_type": "code",
        "outputId": "ccd5378f-7731-4338-e012-5ee6e86f4a79",
        "colab": {
          "base_uri": "https://localhost:8080/",
          "height": 204
        }
      },
      "source": [
        "df.head()"
      ],
      "execution_count": 0,
      "outputs": [
        {
          "output_type": "execute_result",
          "data": {
            "text/html": [
              "<div>\n",
              "<style scoped>\n",
              "    .dataframe tbody tr th:only-of-type {\n",
              "        vertical-align: middle;\n",
              "    }\n",
              "\n",
              "    .dataframe tbody tr th {\n",
              "        vertical-align: top;\n",
              "    }\n",
              "\n",
              "    .dataframe thead th {\n",
              "        text-align: right;\n",
              "    }\n",
              "</style>\n",
              "<table border=\"1\" class=\"dataframe\">\n",
              "  <thead>\n",
              "    <tr style=\"text-align: right;\">\n",
              "      <th></th>\n",
              "      <th>gene</th>\n",
              "      <th>log2FC</th>\n",
              "      <th>pval</th>\n",
              "    </tr>\n",
              "  </thead>\n",
              "  <tbody>\n",
              "    <tr>\n",
              "      <th>0</th>\n",
              "      <td>ABC</td>\n",
              "      <td>-3.50</td>\n",
              "      <td>0.01</td>\n",
              "    </tr>\n",
              "    <tr>\n",
              "      <th>1</th>\n",
              "      <td>ABC</td>\n",
              "      <td>-2.30</td>\n",
              "      <td>0.12</td>\n",
              "    </tr>\n",
              "    <tr>\n",
              "      <th>2</th>\n",
              "      <td>DEF</td>\n",
              "      <td>1.80</td>\n",
              "      <td>0.03</td>\n",
              "    </tr>\n",
              "    <tr>\n",
              "      <th>3</th>\n",
              "      <td>DEF</td>\n",
              "      <td>3.70</td>\n",
              "      <td>0.01</td>\n",
              "    </tr>\n",
              "    <tr>\n",
              "      <th>4</th>\n",
              "      <td>GHI</td>\n",
              "      <td>0.04</td>\n",
              "      <td>0.43</td>\n",
              "    </tr>\n",
              "  </tbody>\n",
              "</table>\n",
              "</div>"
            ],
            "text/plain": [
              "  gene  log2FC  pval\n",
              "0  ABC   -3.50  0.01\n",
              "1  ABC   -2.30  0.12\n",
              "2  DEF    1.80  0.03\n",
              "3  DEF    3.70  0.01\n",
              "4  GHI    0.04  0.43"
            ]
          },
          "metadata": {
            "tags": []
          },
          "execution_count": 85
        }
      ]
    },
    {
      "cell_type": "code",
      "metadata": {
        "id": "16dRFc9bDln0",
        "colab_type": "code",
        "outputId": "4b132438-ec51-479a-eaac-de9bb5ecc584",
        "colab": {
          "base_uri": "https://localhost:8080/",
          "height": 204
        }
      },
      "source": [
        "df.tail()"
      ],
      "execution_count": 0,
      "outputs": [
        {
          "output_type": "execute_result",
          "data": {
            "text/html": [
              "<div>\n",
              "<style scoped>\n",
              "    .dataframe tbody tr th:only-of-type {\n",
              "        vertical-align: middle;\n",
              "    }\n",
              "\n",
              "    .dataframe tbody tr th {\n",
              "        vertical-align: top;\n",
              "    }\n",
              "\n",
              "    .dataframe thead th {\n",
              "        text-align: right;\n",
              "    }\n",
              "</style>\n",
              "<table border=\"1\" class=\"dataframe\">\n",
              "  <thead>\n",
              "    <tr style=\"text-align: right;\">\n",
              "      <th></th>\n",
              "      <th>gene</th>\n",
              "      <th>log2FC</th>\n",
              "      <th>pval</th>\n",
              "    </tr>\n",
              "  </thead>\n",
              "  <tbody>\n",
              "    <tr>\n",
              "      <th>1</th>\n",
              "      <td>ABC</td>\n",
              "      <td>-2.30</td>\n",
              "      <td>0.12</td>\n",
              "    </tr>\n",
              "    <tr>\n",
              "      <th>2</th>\n",
              "      <td>DEF</td>\n",
              "      <td>1.80</td>\n",
              "      <td>0.03</td>\n",
              "    </tr>\n",
              "    <tr>\n",
              "      <th>3</th>\n",
              "      <td>DEF</td>\n",
              "      <td>3.70</td>\n",
              "      <td>0.01</td>\n",
              "    </tr>\n",
              "    <tr>\n",
              "      <th>4</th>\n",
              "      <td>GHI</td>\n",
              "      <td>0.04</td>\n",
              "      <td>0.43</td>\n",
              "    </tr>\n",
              "    <tr>\n",
              "      <th>5</th>\n",
              "      <td>GHI</td>\n",
              "      <td>-0.10</td>\n",
              "      <td>0.67</td>\n",
              "    </tr>\n",
              "  </tbody>\n",
              "</table>\n",
              "</div>"
            ],
            "text/plain": [
              "  gene  log2FC  pval\n",
              "1  ABC   -2.30  0.12\n",
              "2  DEF    1.80  0.03\n",
              "3  DEF    3.70  0.01\n",
              "4  GHI    0.04  0.43\n",
              "5  GHI   -0.10  0.67"
            ]
          },
          "metadata": {
            "tags": []
          },
          "execution_count": 86
        }
      ]
    },
    {
      "cell_type": "code",
      "metadata": {
        "scrolled": true,
        "id": "kRGpwE40Dln3",
        "colab_type": "code",
        "outputId": "c3413700-af9d-4189-d7cb-4a0be294cd41",
        "colab": {
          "base_uri": "https://localhost:8080/",
          "height": 111
        }
      },
      "source": [
        "df.tail(2)"
      ],
      "execution_count": 0,
      "outputs": [
        {
          "output_type": "execute_result",
          "data": {
            "text/html": [
              "<div>\n",
              "<style scoped>\n",
              "    .dataframe tbody tr th:only-of-type {\n",
              "        vertical-align: middle;\n",
              "    }\n",
              "\n",
              "    .dataframe tbody tr th {\n",
              "        vertical-align: top;\n",
              "    }\n",
              "\n",
              "    .dataframe thead th {\n",
              "        text-align: right;\n",
              "    }\n",
              "</style>\n",
              "<table border=\"1\" class=\"dataframe\">\n",
              "  <thead>\n",
              "    <tr style=\"text-align: right;\">\n",
              "      <th></th>\n",
              "      <th>gene</th>\n",
              "      <th>log2FC</th>\n",
              "      <th>pval</th>\n",
              "    </tr>\n",
              "  </thead>\n",
              "  <tbody>\n",
              "    <tr>\n",
              "      <th>4</th>\n",
              "      <td>GHI</td>\n",
              "      <td>0.04</td>\n",
              "      <td>0.43</td>\n",
              "    </tr>\n",
              "    <tr>\n",
              "      <th>5</th>\n",
              "      <td>GHI</td>\n",
              "      <td>-0.10</td>\n",
              "      <td>0.67</td>\n",
              "    </tr>\n",
              "  </tbody>\n",
              "</table>\n",
              "</div>"
            ],
            "text/plain": [
              "  gene  log2FC  pval\n",
              "4  GHI    0.04  0.43\n",
              "5  GHI   -0.10  0.67"
            ]
          },
          "metadata": {
            "tags": []
          },
          "execution_count": 87
        }
      ]
    },
    {
      "cell_type": "markdown",
      "metadata": {
        "colab_type": "text",
        "id": "PiTTlTmZ2apF"
      },
      "source": [
        "Display the index, clumns and the underlying numpy data"
      ]
    },
    {
      "cell_type": "code",
      "metadata": {
        "id": "oP7JpviVDln9",
        "colab_type": "code",
        "outputId": "8e283e3c-dbc0-44e3-ac8f-a423d14bab33",
        "colab": {
          "base_uri": "https://localhost:8080/",
          "height": 136
        }
      },
      "source": [
        "df['log2FC'] # df.log2FC"
      ],
      "execution_count": 0,
      "outputs": [
        {
          "output_type": "execute_result",
          "data": {
            "text/plain": [
              "0   -3.50\n",
              "1   -2.30\n",
              "2    1.80\n",
              "3    3.70\n",
              "4    0.04\n",
              "5   -0.10\n",
              "Name: log2FC, dtype: float64"
            ]
          },
          "metadata": {
            "tags": []
          },
          "execution_count": 88
        }
      ]
    },
    {
      "cell_type": "code",
      "metadata": {
        "colab_type": "code",
        "id": "ho_Tj3382apJ",
        "outputId": "c57fd546-d817-4891-8340-87dbc3065113",
        "colab": {
          "base_uri": "https://localhost:8080/",
          "height": 34
        }
      },
      "source": [
        "df.columns"
      ],
      "execution_count": 0,
      "outputs": [
        {
          "output_type": "execute_result",
          "data": {
            "text/plain": [
              "Index(['gene', 'log2FC', 'pval'], dtype='object')"
            ]
          },
          "metadata": {
            "tags": []
          },
          "execution_count": 89
        }
      ]
    },
    {
      "cell_type": "code",
      "metadata": {
        "colab_type": "code",
        "id": "VkLyvrJ12apM",
        "outputId": "3c56b733-75da-4396-c6f8-ebffa63dbf33",
        "colab": {
          "base_uri": "https://localhost:8080/",
          "height": 119
        }
      },
      "source": [
        "df.values"
      ],
      "execution_count": 0,
      "outputs": [
        {
          "output_type": "execute_result",
          "data": {
            "text/plain": [
              "array([['ABC', -3.5, 0.01],\n",
              "       ['ABC', -2.3, 0.12],\n",
              "       ['DEF', 1.8, 0.03],\n",
              "       ['DEF', 3.7, 0.01],\n",
              "       ['GHI', 0.04, 0.43],\n",
              "       ['GHI', -0.1, 0.67]], dtype=object)"
            ]
          },
          "metadata": {
            "tags": []
          },
          "execution_count": 90
        }
      ]
    },
    {
      "cell_type": "markdown",
      "metadata": {
        "colab_type": "text",
        "id": "8rYxmRYe2apO"
      },
      "source": [
        "### Summarizations\n",
        "`describe` shows a quick statistic\n",
        "summary of your data"
      ]
    },
    {
      "cell_type": "code",
      "metadata": {
        "id": "PkarUrRmDloK",
        "colab_type": "code",
        "outputId": "5f1bc9c1-719d-4e58-9546-a75a9b6ef6df",
        "colab": {
          "base_uri": "https://localhost:8080/",
          "height": 297
        }
      },
      "source": [
        "df.describe()"
      ],
      "execution_count": 0,
      "outputs": [
        {
          "output_type": "execute_result",
          "data": {
            "text/html": [
              "<div>\n",
              "<style scoped>\n",
              "    .dataframe tbody tr th:only-of-type {\n",
              "        vertical-align: middle;\n",
              "    }\n",
              "\n",
              "    .dataframe tbody tr th {\n",
              "        vertical-align: top;\n",
              "    }\n",
              "\n",
              "    .dataframe thead th {\n",
              "        text-align: right;\n",
              "    }\n",
              "</style>\n",
              "<table border=\"1\" class=\"dataframe\">\n",
              "  <thead>\n",
              "    <tr style=\"text-align: right;\">\n",
              "      <th></th>\n",
              "      <th>log2FC</th>\n",
              "      <th>pval</th>\n",
              "    </tr>\n",
              "  </thead>\n",
              "  <tbody>\n",
              "    <tr>\n",
              "      <th>count</th>\n",
              "      <td>6.000000</td>\n",
              "      <td>6.000000</td>\n",
              "    </tr>\n",
              "    <tr>\n",
              "      <th>mean</th>\n",
              "      <td>-0.060000</td>\n",
              "      <td>0.211667</td>\n",
              "    </tr>\n",
              "    <tr>\n",
              "      <th>std</th>\n",
              "      <td>2.625262</td>\n",
              "      <td>0.275856</td>\n",
              "    </tr>\n",
              "    <tr>\n",
              "      <th>min</th>\n",
              "      <td>-3.500000</td>\n",
              "      <td>0.010000</td>\n",
              "    </tr>\n",
              "    <tr>\n",
              "      <th>25%</th>\n",
              "      <td>-1.750000</td>\n",
              "      <td>0.015000</td>\n",
              "    </tr>\n",
              "    <tr>\n",
              "      <th>50%</th>\n",
              "      <td>-0.030000</td>\n",
              "      <td>0.075000</td>\n",
              "    </tr>\n",
              "    <tr>\n",
              "      <th>75%</th>\n",
              "      <td>1.360000</td>\n",
              "      <td>0.352500</td>\n",
              "    </tr>\n",
              "    <tr>\n",
              "      <th>max</th>\n",
              "      <td>3.700000</td>\n",
              "      <td>0.670000</td>\n",
              "    </tr>\n",
              "  </tbody>\n",
              "</table>\n",
              "</div>"
            ],
            "text/plain": [
              "         log2FC      pval\n",
              "count  6.000000  6.000000\n",
              "mean  -0.060000  0.211667\n",
              "std    2.625262  0.275856\n",
              "min   -3.500000  0.010000\n",
              "25%   -1.750000  0.015000\n",
              "50%   -0.030000  0.075000\n",
              "75%    1.360000  0.352500\n",
              "max    3.700000  0.670000"
            ]
          },
          "metadata": {
            "tags": []
          },
          "execution_count": 91
        }
      ]
    },
    {
      "cell_type": "markdown",
      "metadata": {
        "colab_type": "text",
        "id": "90VSO5582apS"
      },
      "source": [
        "`info` provies a concise summar of a DataFrame"
      ]
    },
    {
      "cell_type": "code",
      "metadata": {
        "id": "an-_Ve_nDloQ",
        "colab_type": "code",
        "outputId": "684d81e0-22dc-4008-e4bc-b9ce5bd7888c",
        "colab": {
          "base_uri": "https://localhost:8080/",
          "height": 153
        }
      },
      "source": [
        "df.info()"
      ],
      "execution_count": 0,
      "outputs": [
        {
          "output_type": "stream",
          "text": [
            "<class 'pandas.core.frame.DataFrame'>\n",
            "RangeIndex: 6 entries, 0 to 5\n",
            "Data columns (total 3 columns):\n",
            "gene      6 non-null object\n",
            "log2FC    6 non-null float64\n",
            "pval      6 non-null float64\n",
            "dtypes: float64(2), object(1)\n",
            "memory usage: 224.0+ bytes\n"
          ],
          "name": "stdout"
        }
      ]
    },
    {
      "cell_type": "markdown",
      "metadata": {
        "colab_type": "text",
        "id": "O19TbeqQ2apV"
      },
      "source": [
        "## Input and Output\n",
        "How do you get data into and out of Pandas as spreadsheets?\n",
        " - Pandas can work with XLS or XLSX files.\n",
        " - Can also work with CSV (comma separated values) file\n",
        " - CSV stores plain text in a tabular form\n",
        " - CSV files may have a header\n",
        " - You can use a variety of different field delimiters (rather than a ‘comma’). Check which delimiter your file is using before import!\n",
        " \n",
        "__Import to Pandas__  \n",
        " > `df = pd.read_csv('data.csv', sep='\\t', header=0)`\n",
        "\n",
        "For Excel files, it's the same thing but with read_excel\n",
        "\n",
        "__Export to text file__  \n",
        " > `df.to_csv('data.csv', sep='\\t', header=True, index=False)`\n",
        " \n",
        "The values of header and index depend on if you want to print the column and/or row names"
      ]
    },
    {
      "cell_type": "markdown",
      "metadata": {
        "id": "AwJ17HKWDlok",
        "colab_type": "text"
      },
      "source": [
        "## <img src=\"https://img.icons8.com/dusk/64/000000/area-chart.png\" style=\"height:50px;display:inline\"> Matplotlib\n",
        "\n",
        "A 2D plotting library which produces publication quality figures.\n",
        " - Can be used in python scripts, the python and IPython shell, web application servers, and more …\n",
        " - Can be used to generate plots, histograms, power spectra, bar charts, errorcharts, scatterplots, etc.\n",
        " - For simple plotting, pyplot provides a MATLAB-like interface \n",
        " - For power users, a full control via OO interface or via a set of functions\n",
        "\n",
        "There are several Matplotlib add-on toolkits\n",
        " - Projection and mapping toolkits [basemap](http://matplotlib.org/basemap/) and [cartopy](http://scitools.org.uk/cartopy/).\n",
        " - Interactive plots in web browsers using [Bokeh](http://bokeh.pydata.org/en/latest/).\n",
        " - Higher level interface with updated visualizations [Seaborn](http://seaborn.pydata.org/index.html).\n",
        "\n",
        "Matplotlib is available at [www.matplotlib.org](www.matplotlib.org)"
      ]
    },
    {
      "cell_type": "code",
      "metadata": {
        "id": "C09TKRx8Dlol",
        "colab_type": "code",
        "colab": {}
      },
      "source": [
        "# import matplotlib\n",
        "import matplotlib.pyplot as plt"
      ],
      "execution_count": 0,
      "outputs": []
    },
    {
      "cell_type": "markdown",
      "metadata": {
        "colab_type": "text",
        "id": "JU4i6qIk2aqj"
      },
      "source": [
        "## Line Plots"
      ]
    },
    {
      "cell_type": "markdown",
      "metadata": {
        "colab_type": "text",
        "id": "lLE2bOLV2aqk"
      },
      "source": [
        "### Plot Against Indices"
      ]
    },
    {
      "cell_type": "code",
      "metadata": {
        "id": "GansTvyJDlos",
        "colab_type": "code",
        "outputId": "58ae834a-57d8-462a-cd49-537970043aaf",
        "colab": {
          "base_uri": "https://localhost:8080/",
          "height": 367
        }
      },
      "source": [
        "x = np.arange(50) * 2 * np.pi / 50\n",
        "y = np.sin(x)\n",
        "fig = plt.figure(figsize=(8, 5)) # create a figure, just like in matlab\n",
        "ax = fig.add_subplot(1, 1 ,1) # create a subplot of certain size\n",
        "ax.plot(y, label=\"y = sin(x)\")\n",
        "ax.set_xlabel('index')\n",
        "ax.set_ylabel(\"sin(x)\")\n",
        "ax.set_title(\"sin(x)\")\n",
        "ax.grid()\n",
        "ax.legend()"
      ],
      "execution_count": 0,
      "outputs": [
        {
          "output_type": "execute_result",
          "data": {
            "text/plain": [
              "<matplotlib.legend.Legend at 0x7f1835006b00>"
            ]
          },
          "metadata": {
            "tags": []
          },
          "execution_count": 94
        },
        {
          "output_type": "display_data",
          "data": {
            "image/png": "[encoded data removed]",
            "text/plain": [
              "<Figure size 576x360 with 1 Axes>"
            ]
          },
          "metadata": {
            "tags": []
          }
        }
      ]
    },
    {
      "cell_type": "markdown",
      "metadata": {
        "colab_type": "text",
        "id": "jWP09PPq2aqs"
      },
      "source": [
        "### Multiple Lines"
      ]
    },
    {
      "cell_type": "code",
      "metadata": {
        "id": "GMAiKpnWDlo2",
        "colab_type": "code",
        "outputId": "2eeec145-e041-4eaf-ae8a-14d5fba266af",
        "colab": {
          "base_uri": "https://localhost:8080/",
          "height": 367
        }
      },
      "source": [
        "x2 = np.arange(50) * 2 * np.pi / 25\n",
        "y2 = np.sin(x2)\n",
        "fig = plt.figure(figsize=(8, 5)) # create a figure, just like in matlab\n",
        "ax = fig.add_subplot(1, 1 ,1) # create a subplot of certain size\n",
        "ax.plot(y, label=\"y1 = sin(x1)\")\n",
        "ax.plot(y2, 'r-^', label=\"y2 = sin(x2)\")\n",
        "ax.set_xlabel('index')\n",
        "ax.set_ylabel(\"sin(x)\")\n",
        "ax.set_title(\"sin(x)\")\n",
        "ax.grid()\n",
        "ax.legend()"
      ],
      "execution_count": 0,
      "outputs": [
        {
          "output_type": "execute_result",
          "data": {
            "text/plain": [
              "<matplotlib.legend.Legend at 0x7f18350ec0f0>"
            ]
          },
          "metadata": {
            "tags": []
          },
          "execution_count": 95
        },
        {
          "output_type": "display_data",
          "data": {
            "image/png": "[encoded data removed]",
            "text/plain": [
              "<Figure size 576x360 with 1 Axes>"
            ]
          },
          "metadata": {
            "tags": []
          }
        }
      ]
    },
    {
      "cell_type": "markdown",
      "metadata": {
        "colab_type": "text",
        "id": "HOfPan8W2arb"
      },
      "source": [
        "### Scatter Plots"
      ]
    },
    {
      "cell_type": "code",
      "metadata": {
        "id": "NHM1gVKBDlpB",
        "colab_type": "code",
        "outputId": "6ce9304c-3bde-4a27-8747-eb7aaa1e5de6",
        "colab": {
          "base_uri": "https://localhost:8080/",
          "height": 367
        }
      },
      "source": [
        "x = np.arange(50) * 2 * np.pi / 50\n",
        "y = np.sin(x)\n",
        "fig = plt.figure(figsize=(8, 5)) # create a figure, just like in matlab\n",
        "ax = fig.add_subplot(1, 1 ,1) # create a subplot of certain size\n",
        "ax.scatter(x, y, label=\"y = sin(x)\")\n",
        "ax.set_xlabel('index')\n",
        "ax.set_ylabel(\"sin(x)\")\n",
        "ax.set_title(\"scatter sin(x)\")\n",
        "ax.grid()\n",
        "ax.legend()"
      ],
      "execution_count": 0,
      "outputs": [
        {
          "output_type": "execute_result",
          "data": {
            "text/plain": [
              "<matplotlib.legend.Legend at 0x7f18351a6780>"
            ]
          },
          "metadata": {
            "tags": []
          },
          "execution_count": 96
        },
        {
          "output_type": "display_data",
          "data": {
            "image/png": "[encoded data removed]",
            "text/plain": [
              "<Figure size 576x360 with 1 Axes>"
            ]
          },
          "metadata": {
            "tags": []
          }
        }
      ]
    },
    {
      "cell_type": "markdown",
      "metadata": {
        "colab_type": "text",
        "id": "TvWvh-rk2arj"
      },
      "source": [
        "### Bar Plots"
      ]
    },
    {
      "cell_type": "code",
      "metadata": {
        "id": "1RAPujp3DlpG",
        "colab_type": "code",
        "outputId": "7c0d9af5-68a7-4d83-e740-dd5c9f48e414",
        "colab": {
          "base_uri": "https://localhost:8080/",
          "height": 585
        }
      },
      "source": [
        "fig = plt.figure(figsize=(10, 8)) # create a figure, just like in matlab\n",
        "ax1 = fig.add_subplot(2, 1 ,1) # create a subplot of certain size\n",
        "ax1.bar(x, y)\n",
        "ax1.set_xlabel('x')\n",
        "ax1.set_ylabel(\"y\")\n",
        "ax1.set_title(\"bar plot\")\n",
        "ax1.grid()\n",
        "\n",
        "ax2 = fig.add_subplot(2, 1 ,2) # create a subplot of certain size\n",
        "ax2.barh(x, y, height=x[1]-x[0])\n",
        "ax2.set_xlabel('x')\n",
        "ax2.set_ylabel(\"y\")\n",
        "ax2.set_title(\"barh plot\")\n",
        "ax2.grid()\n",
        "\n",
        "plt.tight_layout()"
      ],
      "execution_count": 0,
      "outputs": [
        {
          "output_type": "display_data",
          "data": {
            "image/png": "[encoded data removed]",
            "text/plain": [
              "<Figure size 720x576 with 2 Axes>"
            ]
          },
          "metadata": {
            "tags": []
          }
        }
      ]
    },
    {
      "cell_type": "markdown",
      "metadata": {
        "colab_type": "text",
        "id": "v5vzWO4h2arn"
      },
      "source": [
        "### Histogram"
      ]
    },
    {
      "cell_type": "code",
      "metadata": {
        "scrolled": true,
        "id": "LcFqVv36DlpL",
        "colab_type": "code",
        "outputId": "b2413ab1-eabb-47c8-b975-28fba6f798aa",
        "colab": {
          "base_uri": "https://localhost:8080/",
          "height": 336
        }
      },
      "source": [
        "fig = plt.figure(figsize=(8, 5)) # create a figure, just like in matlab\n",
        "ax = fig.add_subplot(1, 1 ,1) # create a subplot of certain size\n",
        "ax.hist(np.random.randn(1000), 30) # 30 is the number of bins\n",
        "ax.set_title(\"histogram\")\n",
        "ax.grid()"
      ],
      "execution_count": 0,
      "outputs": [
        {
          "output_type": "display_data",
          "data": {
            "image/png": "[encoded data removed]",
            "text/plain": [
              "<Figure size 576x360 with 1 Axes>"
            ]
          },
          "metadata": {
            "tags": []
          }
        }
      ]
    },
    {
      "cell_type": "markdown",
      "metadata": {
        "id": "LtLyvkn1DlqO",
        "colab_type": "text"
      },
      "source": [
        "## <img src=\"https://img.icons8.com/dusk/64/000000/prize.png\" style=\"height:50px;display:inline\"> Credits\n",
        "* Icons from <a href=\"https://icons8.com/\">Icon8.com</a> - https://icons8.com\n",
        "* Datasets from <a href=\"https://www.kaggle.com/\">Kaggle</a> - https://www.kaggle.com/\n",
        "* Special thanks to <a href=\"mailto:taldanielm@campus.technion.ac.il\">Tal Daniel</a> \n",
        "* By <a href=\"https://github.com/eyalbd2\">Eyal Ben David</a> and <a href=\"https://github.com/nadavo\">Nadav Oved </a>"
      ]
    }
  ]
}