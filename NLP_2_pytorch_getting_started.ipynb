{
  "nbformat": 4,
  "nbformat_minor": 0,
  "metadata": {
    "colab": {
      "name": "NLP_2-pytorch_getting_started.ipynb",
      "provenance": [],
      "collapsed_sections": [],
      "include_colab_link": true
    },
    "kernelspec": {
      "name": "python3",
      "display_name": "Python 3"
    }
  },
  "cells": [
    {
      "cell_type": "markdown",
      "metadata": {
        "id": "view-in-github",
        "colab_type": "text"
      },
      "source": [
        "<a href=\"https://colab.research.google.com/github/eyalbd2/097215_Natural-Language-Processing_Workshop-Notebooks/blob/master/NLP_2_pytorch_getting_started.ipynb\" target=\"_parent\"><img src=\"https://colab.research.google.com/assets/colab-badge.svg\" alt=\"Open In Colab\"/></a>"
      ]
    },
    {
      "cell_type": "markdown",
      "metadata": {
        "id": "nNxZIlqb16cd",
        "colab_type": "text"
      },
      "source": [
        "# <img src=\"https://img.icons8.com/dusk/64/000000/mind-map.png\" style=\"height:50px;display:inline\"> IE 097215 - Technion - Natural Language Processing\n",
        "\n",
        "## Pytorch basics\n",
        "The seocnd assignment in the course includes training a Deep Neural Network (DNN). We provide here basic code and materials which is neccessery in order to perform the assignment. Another profounding notebook will be released later, that includes more specific modules which will be used in the assignment.\n",
        "\n"
      ]
    },
    {
      "cell_type": "markdown",
      "metadata": {
        "id": "2OXGlug13hhH",
        "colab_type": "text"
      },
      "source": [
        "### Part 1 - Tensors\n",
        "\n",
        "Tensors are similar to NumPy’s ndarrays, with the addition being that Tensors can also be used on a GPU to accelerate computing."
      ]
    },
    {
      "cell_type": "code",
      "metadata": {
        "id": "Zdja62wX12nH",
        "colab_type": "code",
        "colab": {}
      },
      "source": [
        "import torch"
      ],
      "execution_count": 0,
      "outputs": []
    },
    {
      "cell_type": "markdown",
      "metadata": {
        "id": "uaIa6qj63_0z",
        "colab_type": "text"
      },
      "source": [
        "Initializing a tensor, with what is in memory at the moment."
      ]
    },
    {
      "cell_type": "code",
      "metadata": {
        "id": "LFutsOMn4yj4",
        "colab_type": "code",
        "outputId": "9f3e58fc-9fc3-44c7-f1fe-79047871a653",
        "colab": {
          "base_uri": "https://localhost:8080/",
          "height": 84
        }
      },
      "source": [
        "x = torch.empty(4, 4)\n",
        "print(x)"
      ],
      "execution_count": 0,
      "outputs": [
        {
          "output_type": "stream",
          "text": [
            "tensor([[2.1935e-36, 0.0000e+00, 4.4842e-44, 0.0000e+00],\n",
            "        [       nan, 6.4460e-44, 2.1121e+20, 1.3424e-05],\n",
            "        [2.6193e+20, 2.0942e+23, 3.3055e+21, 3.2774e-09],\n",
            "        [4.2464e-08, 1.3167e-08, 5.0948e-14, 0.0000e+00]])\n"
          ],
          "name": "stdout"
        }
      ]
    },
    {
      "cell_type": "markdown",
      "metadata": {
        "id": "hDa3dlbG49FR",
        "colab_type": "text"
      },
      "source": [
        "And now lets initialize it randomly"
      ]
    },
    {
      "cell_type": "code",
      "metadata": {
        "id": "PEbscffc5ESF",
        "colab_type": "code",
        "outputId": "777bb74f-70d1-40b6-8554-49ba62cbb0ca",
        "colab": {
          "base_uri": "https://localhost:8080/",
          "height": 84
        }
      },
      "source": [
        "x = torch.rand(4, 4)\n",
        "print(x)"
      ],
      "execution_count": 0,
      "outputs": [
        {
          "output_type": "stream",
          "text": [
            "tensor([[0.8801, 0.8616, 0.3637, 0.5345],\n",
            "        [0.0615, 0.4782, 0.3845, 0.9001],\n",
            "        [0.5660, 0.1116, 0.0555, 0.4025],\n",
            "        [0.4223, 0.1288, 0.7994, 0.5824]])\n"
          ],
          "name": "stdout"
        }
      ]
    },
    {
      "cell_type": "markdown",
      "metadata": {
        "id": "9ej99hJL5Ksk",
        "colab_type": "text"
      },
      "source": [
        "Zeros tensor"
      ]
    },
    {
      "cell_type": "code",
      "metadata": {
        "id": "oImAVfka5M9U",
        "colab_type": "code",
        "outputId": "7ceb1657-7321-4c9e-cb92-f5b096591b8f",
        "colab": {
          "base_uri": "https://localhost:8080/",
          "height": 101
        }
      },
      "source": [
        "x = torch.zeros(5, 3, dtype=torch.long)\n",
        "print(x)"
      ],
      "execution_count": 0,
      "outputs": [
        {
          "output_type": "stream",
          "text": [
            "tensor([[0, 0, 0],\n",
            "        [0, 0, 0],\n",
            "        [0, 0, 0],\n",
            "        [0, 0, 0],\n",
            "        [0, 0, 0]])\n"
          ],
          "name": "stdout"
        }
      ]
    },
    {
      "cell_type": "markdown",
      "metadata": {
        "id": "KXFCN2rJ5TOK",
        "colab_type": "text"
      },
      "source": [
        "Construct directly:"
      ]
    },
    {
      "cell_type": "code",
      "metadata": {
        "id": "m2_yx_Ja5cTK",
        "colab_type": "code",
        "outputId": "cb3dbc63-9a3a-46b2-8518-5e7bae3a4d6f",
        "colab": {
          "base_uri": "https://localhost:8080/",
          "height": 34
        }
      },
      "source": [
        "x = torch.tensor([12.25, 2])\n",
        "print(x)"
      ],
      "execution_count": 0,
      "outputs": [
        {
          "output_type": "stream",
          "text": [
            "tensor([12.2500,  2.0000])\n"
          ],
          "name": "stdout"
        }
      ]
    },
    {
      "cell_type": "markdown",
      "metadata": {
        "id": "Fm7zlTGI5wVd",
        "colab_type": "text"
      },
      "source": [
        "We can create a tensor based on an existing tensor, and get its size. "
      ]
    },
    {
      "cell_type": "code",
      "metadata": {
        "id": "YUtupP4S53Ol",
        "colab_type": "code",
        "outputId": "7fd7ee02-52a8-4c19-af36-1205db28c173",
        "colab": {
          "base_uri": "https://localhost:8080/",
          "height": 168
        }
      },
      "source": [
        "x = x.new_ones(4, 4, dtype=torch.double)      # new_* methods take in sizes\n",
        "print(x)\n",
        "\n",
        "x = torch.randn_like(x, dtype=torch.float)    # override dtype!\n",
        "print(x) \n",
        "x.size()"
      ],
      "execution_count": 0,
      "outputs": [
        {
          "output_type": "stream",
          "text": [
            "tensor([[1., 1., 1., 1.],\n",
            "        [1., 1., 1., 1.],\n",
            "        [1., 1., 1., 1.],\n",
            "        [1., 1., 1., 1.]], dtype=torch.float64)\n",
            "tensor([[-0.5475, -1.3396, -0.6332, -0.6537],\n",
            "        [-1.0933, -0.0215, -1.1116,  0.0362],\n",
            "        [ 0.5215,  0.1457, -0.3803, -2.1658],\n",
            "        [ 0.0847,  1.0411, -1.5574,  0.1499]])\n"
          ],
          "name": "stdout"
        },
        {
          "output_type": "execute_result",
          "data": {
            "text/plain": [
              "torch.Size([4, 4])"
            ]
          },
          "metadata": {
            "tags": []
          },
          "execution_count": 14
        }
      ]
    },
    {
      "cell_type": "markdown",
      "metadata": {
        "id": "XLuq3q7Z6Qey",
        "colab_type": "text"
      },
      "source": [
        "Lets watch some tensor oprations:"
      ]
    },
    {
      "cell_type": "code",
      "metadata": {
        "id": "nFvxnyD16XCc",
        "colab_type": "code",
        "outputId": "d6281f6b-c574-4da5-a2b1-3f6e1f0c951d",
        "colab": {
          "base_uri": "https://localhost:8080/",
          "height": 269
        }
      },
      "source": [
        "# Addition\n",
        "y = torch.rand(4, 4)\n",
        "print(\"x+y = \")\n",
        "print(x + y)\n",
        "\n",
        "# Another addition\n",
        "print(\"x+y = \")\n",
        "print(torch.add(x, y))\n",
        "\n",
        "# Addition in-place (changing y)\n",
        "y.add_(x)\n",
        "print(\"y = \")\n",
        "print(y)\n"
      ],
      "execution_count": 0,
      "outputs": [
        {
          "output_type": "stream",
          "text": [
            "x+y = \n",
            "tensor([[ 0.1525, -0.5691, -0.3954, -0.2373],\n",
            "        [-0.5221,  0.8811, -0.6140,  0.5163],\n",
            "        [ 0.7211,  0.7745, -0.2290, -1.8696],\n",
            "        [ 0.1952,  1.5610, -1.3125,  1.0202]])\n",
            "x+y = \n",
            "tensor([[ 0.1525, -0.5691, -0.3954, -0.2373],\n",
            "        [-0.5221,  0.8811, -0.6140,  0.5163],\n",
            "        [ 0.7211,  0.7745, -0.2290, -1.8696],\n",
            "        [ 0.1952,  1.5610, -1.3125,  1.0202]])\n",
            "y = \n",
            "tensor([[ 0.1525, -0.5691, -0.3954, -0.2373],\n",
            "        [-0.5221,  0.8811, -0.6140,  0.5163],\n",
            "        [ 0.7211,  0.7745, -0.2290, -1.8696],\n",
            "        [ 0.1952,  1.5610, -1.3125,  1.0202]])\n"
          ],
          "name": "stdout"
        }
      ]
    },
    {
      "cell_type": "code",
      "metadata": {
        "id": "QFlSXyqb75i_",
        "colab_type": "code",
        "outputId": "301520a1-214e-4e86-b78f-0cdc826ccbfd",
        "colab": {
          "base_uri": "https://localhost:8080/",
          "height": 34
        }
      },
      "source": [
        "# Numpy operations on Tensors\n",
        "print(x[:, 1])\n"
      ],
      "execution_count": 0,
      "outputs": [
        {
          "output_type": "stream",
          "text": [
            "tensor([-1.3396, -0.0215,  0.1457,  1.0411])\n"
          ],
          "name": "stdout"
        }
      ]
    },
    {
      "cell_type": "markdown",
      "metadata": {
        "id": "cgbTVqCu_tk5",
        "colab_type": "text"
      },
      "source": [
        "Resizing and reshaping a tensor"
      ]
    },
    {
      "cell_type": "code",
      "metadata": {
        "id": "iRsY2HS5_qHD",
        "colab_type": "code",
        "outputId": "91f3a68d-24a8-4fca-de7e-c964a314e61b",
        "colab": {
          "base_uri": "https://localhost:8080/",
          "height": 34
        }
      },
      "source": [
        "x = torch.randn(4, 4)\n",
        "y = x.view(16)\n",
        "z = x.view(-1, int(x.size(0)*2))  # the size -1 is inferred from other dimensions\n",
        "print(x.size(), y.size(), z.size())"
      ],
      "execution_count": 0,
      "outputs": [
        {
          "output_type": "stream",
          "text": [
            "torch.Size([4, 4]) torch.Size([16]) torch.Size([2, 8])\n"
          ],
          "name": "stdout"
        }
      ]
    },
    {
      "cell_type": "markdown",
      "metadata": {
        "id": "TYtArSR2_88R",
        "colab_type": "text"
      },
      "source": [
        "Convert a tensor to a numpy array"
      ]
    },
    {
      "cell_type": "code",
      "metadata": {
        "id": "TSwEjCa7__p_",
        "colab_type": "code",
        "colab": {}
      },
      "source": [
        "a = torch.ones(5)\n",
        "print(a)\n",
        "\n",
        "b = a.numpy()\n",
        "print(b)"
      ],
      "execution_count": 0,
      "outputs": []
    },
    {
      "cell_type": "code",
      "metadata": {
        "id": "iGCP1TlHAV7S",
        "colab_type": "code",
        "colab": {}
      },
      "source": [
        "# See how the numpy array changed in value.\n",
        "a.add_(1)\n",
        "print(a)\n",
        "print(b)"
      ],
      "execution_count": 0,
      "outputs": []
    },
    {
      "cell_type": "markdown",
      "metadata": {
        "id": "R4_aQXII__2f",
        "colab_type": "text"
      },
      "source": [
        "Convert Numpy array to tensor"
      ]
    },
    {
      "cell_type": "code",
      "metadata": {
        "id": "6pnMgXWjAD5P",
        "colab_type": "code",
        "colab": {}
      },
      "source": [
        "import numpy as np\n",
        "a = np.ones(5)\n",
        "b = torch.from_numpy(a)\n",
        "np.add(a, 1, out=a)\n",
        "print(a)\n",
        "print(b)"
      ],
      "execution_count": 0,
      "outputs": []
    },
    {
      "cell_type": "markdown",
      "metadata": {
        "id": "4IW0mpQPAc26",
        "colab_type": "text"
      },
      "source": [
        "### Cuda Tensors\n",
        "Using the .to method, Tensors can be moved onto any device."
      ]
    },
    {
      "cell_type": "code",
      "metadata": {
        "id": "tdDUGDHJAmpq",
        "colab_type": "code",
        "colab": {}
      },
      "source": [
        "# let us run this cell only if CUDA is available\n",
        "# We will use ``torch.device`` objects to move tensors in and out of GPU\n",
        "if torch.cuda.is_available():\n",
        "    device = torch.device(\"cuda\")          # a CUDA device object\n",
        "    y = torch.ones_like(x, device=device)  # directly create a tensor on GPU\n",
        "    x = x.to(device)                       # or just use strings ``.to(\"cuda\")``\n",
        "    z = x + y\n",
        "    print(z)\n",
        "    print(z.to(\"cpu\", torch.double))       # ``.to`` can also change dtype together!"
      ],
      "execution_count": 0,
      "outputs": []
    },
    {
      "cell_type": "code",
      "metadata": {
        "id": "RjeUCu_klocU",
        "colab_type": "code",
        "colab": {}
      },
      "source": [
        "# We could also move tensor to the available device\n",
        "device = torch.device(\"cuda\" if torch.cuda.is_available() else \"cpu\")"
      ],
      "execution_count": 0,
      "outputs": []
    },
    {
      "cell_type": "markdown",
      "metadata": {
        "id": "YGjcFpsFlbMc",
        "colab_type": "text"
      },
      "source": [
        "See PyTorch Tensors [Tutorial](https://pytorch.org/tutorials/beginner/former_torchies/tensor_tutorial.html) and [Documentation](https://pytorch.org/docs/stable/tensors.html) for more info and examples."
      ]
    },
    {
      "cell_type": "markdown",
      "metadata": {
        "id": "gXoBQga3miP7",
        "colab_type": "text"
      },
      "source": [
        "### Part 2 - Define a DNN model\n",
        "We would like to present how to cinstruct a siple regression model with pytorch. We devide this to 4 steps:\n",
        "\n",
        "\n",
        "1.   Creating our network model\n",
        "2.   Data Creation and split to train, val, test\n",
        "3.   Optimizer and Loss\n",
        "4.   Training\n",
        "\n",
        "Lets begin.. :)\n",
        "\n",
        "\n"
      ]
    },
    {
      "cell_type": "markdown",
      "metadata": {
        "id": "j7fJ_IKqcY5j",
        "colab_type": "text"
      },
      "source": [
        "#### Step 1 - Creating our network model"
      ]
    },
    {
      "cell_type": "code",
      "metadata": {
        "id": "L5Lwo-3-mtbR",
        "colab_type": "code",
        "outputId": "79743777-b705-43a7-fba2-8606413e8b9e",
        "colab": {
          "base_uri": "https://localhost:8080/",
          "height": 87
        }
      },
      "source": [
        "import torch\n",
        "import torch.nn as nn\n",
        "import torch.nn.functional as F\n",
        "from torch.utils.data import TensorDataset, DataLoader\n",
        "\n",
        "# We create a FC regression network, with 2 layers.\n",
        "class RegressioNet(nn.Module):\n",
        "   def __init__(self):\n",
        "       super(RegressioNet, self).__init__()\n",
        "       self.hidden_dim = 10\n",
        "       self.layer_1 = torch.nn.Linear(1, self.hidden_dim)\n",
        "       self.layer_2 = torch.nn.Linear(self.hidden_dim, 1)\n",
        "       self.activation = F.relu\n",
        "\n",
        "   def forward(self, x):\n",
        "       x = self.layer_1(x)        # x.size() -> [batch_size, self.hidden_dim]\n",
        "       x = self.activation(x)     # x.size() -> [batch_size, self.hidden_dim]\n",
        "       x = self.layer_2(x)        # x.size() -> [batch_size, 1]\n",
        "       return x  \n",
        "\n",
        "net = RegressioNet()\n",
        "print(net)"
      ],
      "execution_count": 0,
      "outputs": [
        {
          "output_type": "stream",
          "text": [
            "RegressioNet(\n",
            "  (layer_1): Linear(in_features=1, out_features=10, bias=True)\n",
            "  (layer_2): Linear(in_features=10, out_features=1, bias=True)\n",
            ")\n"
          ],
          "name": "stdout"
        }
      ]
    },
    {
      "cell_type": "markdown",
      "metadata": {
        "id": "wRWOX8ldn_uG",
        "colab_type": "text"
      },
      "source": [
        "###### Activation Function\n",
        "We are building a regression model, hence we don't need an activation function. However, an example of a ReLU implementation is given by [`F.relu`](https://pytorch.org/docs/stable/nn.functional.html#relu). \n",
        "Recall the ReLU formulation:\n",
        "$ReLU(x) = max(0,x)$"
      ]
    },
    {
      "cell_type": "markdown",
      "metadata": {
        "id": "LmGnFnWBcWJq",
        "colab_type": "text"
      },
      "source": [
        "#### Step 2 - Data Creation and split to train, val, test\n"
      ]
    },
    {
      "cell_type": "code",
      "metadata": {
        "id": "q8mMYtrDcsCD",
        "colab_type": "code",
        "outputId": "83848668-1ec4-4dc9-d26a-56b2764ce0f2",
        "colab": {
          "base_uri": "https://localhost:8080/",
          "height": 265
        }
      },
      "source": [
        "# Visualize our data\n",
        "import matplotlib.pyplot as plt\n",
        "import numpy as np\n",
        "\n",
        "x = np.random.rand(100000)\n",
        "\n",
        "# y = exp(x) + 5 + noise\n",
        "y = np.exp(x) + np.random.rand(100000)*0.001 + 5\n",
        "\n",
        "plt.scatter(x, y)\n",
        "plt.show()"
      ],
      "execution_count": 0,
      "outputs": [
        {
          "output_type": "display_data",
          "data": {
            "image/png": "[encoded data removed]",
            "text/plain": [
              "<Figure size 432x288 with 1 Axes>"
            ]
          },
          "metadata": {
            "tags": []
          }
        }
      ]
    },
    {
      "cell_type": "code",
      "metadata": {
        "id": "36wJ62MXw__s",
        "colab_type": "code",
        "outputId": "b07350a1-c935-4f24-9474-08dd9fddf864",
        "colab": {
          "base_uri": "https://localhost:8080/",
          "height": 87
        }
      },
      "source": [
        "split_frac = 0.8\n",
        "\n",
        "## split data into training, validation, and test data (x and y)\n",
        "\n",
        "split_idx = int(len(x)*split_frac)\n",
        "train_x, remaining_x = x[:split_idx], x[split_idx:]\n",
        "train_y, remaining_y = y[:split_idx], y[split_idx:]\n",
        "\n",
        "test_idx = int(len(remaining_x)*0.5)\n",
        "val_x, test_x = remaining_x[:test_idx], remaining_x[test_idx:]\n",
        "val_y, test_y = remaining_y[:test_idx], remaining_y[test_idx:]\n",
        "\n",
        "## print out the shapes of your resultant feature data\n",
        "print(\"\\t\\t\\tFeature Shapes:\")\n",
        "print(\"Train set: \\t\\t{}\".format(train_x.shape), \n",
        "      \"\\nValidation set: \\t{}\".format(val_x.shape),\n",
        "      \"\\nTest set: \\t\\t{}\".format(test_x.shape))\n",
        "\n"
      ],
      "execution_count": 0,
      "outputs": [
        {
          "output_type": "stream",
          "text": [
            "\t\t\tFeature Shapes:\n",
            "Train set: \t\t(80000,) \n",
            "Validation set: \t(10000,) \n",
            "Test set: \t\t(10000,)\n"
          ],
          "name": "stdout"
        }
      ]
    },
    {
      "cell_type": "markdown",
      "metadata": {
        "id": "twdnRgpmPZDC",
        "colab_type": "text"
      },
      "source": [
        "#### Step 3 - Optimizer and Loss\n",
        "Next, we should define the Optimizer and the Loss Function for our training process. We will use SGD as an optimizer,although many others are available (such as Adam, RMSprop, Adagrad..). Our Loss function will be is the MSE as we are constructiong a regression model (if we would build a classification model we would use Cross-Entropy)."
      ]
    },
    {
      "cell_type": "code",
      "metadata": {
        "id": "w4LXM97PzxkJ",
        "colab_type": "code",
        "colab": {}
      },
      "source": [
        "# Define Optimizer and Loss Function\n",
        "optimizer = torch.optim.SGD(net.parameters(), lr=0.2)\n",
        "loss_func = torch.nn.MSELoss()"
      ],
      "execution_count": 0,
      "outputs": []
    },
    {
      "cell_type": "markdown",
      "metadata": {
        "id": "kKJzY8Haz4-j",
        "colab_type": "text"
      },
      "source": [
        "#### Step 4 - Training"
      ]
    },
    {
      "cell_type": "code",
      "metadata": {
        "id": "ccsZ0jpxyAF8",
        "colab_type": "code",
        "colab": {}
      },
      "source": [
        "batch_size = 100\n",
        "\n",
        "# create Tensor datasets\n",
        "train_data = TensorDataset(torch.from_numpy(train_x).float(), torch.from_numpy(train_y).float())\n",
        "valid_data = TensorDataset(torch.from_numpy(val_x).float(), torch.from_numpy(val_y).float())\n",
        "test_data = TensorDataset(torch.from_numpy(test_x).float(), torch.from_numpy(test_y).float())\n",
        "\n",
        "# make sure the SHUFFLE your training data\n",
        "train_loader = DataLoader(train_data, shuffle=True, batch_size=batch_size)\n",
        "valid_loader = DataLoader(valid_data, shuffle=True, batch_size=batch_size)\n",
        "test_loader = DataLoader(test_data, shuffle=True, batch_size=batch_size)"
      ],
      "execution_count": 0,
      "outputs": []
    },
    {
      "cell_type": "code",
      "metadata": {
        "id": "NyZZ9nBGPGjh",
        "colab_type": "code",
        "outputId": "7725c618-0ca8-44b2-b5a3-9da5528bae10",
        "colab": {
          "base_uri": "https://localhost:8080/",
          "height": 527
        }
      },
      "source": [
        "# obtain one batch of training data\n",
        "dataiter = iter(train_loader)\n",
        "sample_x, sample_y = dataiter.next()\n",
        "\n",
        "print('Sample input size: ', sample_x.size()) # batch_size\n",
        "print('Sample input: \\n', sample_x)\n",
        "print()\n",
        "print('Sample label size: ', sample_y.size()) # batch_size\n",
        "print('Sample label: \\n', sample_y)"
      ],
      "execution_count": 0,
      "outputs": [
        {
          "output_type": "stream",
          "text": [
            "Sample input size:  torch.Size([100])\n",
            "Sample input: \n",
            " tensor([0.7977, 0.3680, 0.9629, 0.3257, 0.1184, 0.7270, 0.9984, 0.0642, 0.0928,\n",
            "        0.5655, 0.2625, 0.2240, 0.8213, 0.8368, 0.6891, 0.7627, 0.9505, 0.1732,\n",
            "        0.7114, 0.5614, 0.1867, 0.7724, 0.0856, 0.7442, 0.8015, 0.6252, 0.5904,\n",
            "        0.5504, 0.0300, 0.2636, 0.2879, 0.3414, 0.1248, 0.6555, 0.7879, 0.6662,\n",
            "        0.1415, 0.3675, 0.9513, 0.3061, 0.9150, 0.0375, 0.6901, 0.4229, 0.4474,\n",
            "        0.5216, 0.9025, 0.5091, 0.4061, 0.8731, 0.9180, 0.1116, 0.6072, 0.0603,\n",
            "        0.6066, 0.5145, 0.4624, 0.1130, 0.6619, 0.5496, 0.3534, 0.7725, 0.6222,\n",
            "        0.9386, 0.0362, 0.3879, 0.4929, 0.4585, 0.1443, 0.4272, 0.7402, 0.2165,\n",
            "        0.9667, 0.2672, 0.0278, 0.4677, 0.6585, 0.5865, 0.6475, 0.1001, 0.4069,\n",
            "        0.2493, 0.2537, 0.3916, 0.1091, 0.9676, 0.0473, 0.5964, 0.3736, 0.9570,\n",
            "        0.1590, 0.0142, 0.6099, 0.7311, 0.8477, 0.5299, 0.6260, 0.5336, 0.3889,\n",
            "        0.4673])\n",
            "\n",
            "Sample label size:  torch.Size([100])\n",
            "Sample label: \n",
            " tensor([7.2207, 6.4457, 7.6197, 6.3856, 6.1259, 7.0691, 7.7145, 6.0670, 6.0978,\n",
            "        6.7603, 6.3003, 6.2516, 7.2739, 7.3094, 6.9921, 7.1444, 7.5874, 6.1898,\n",
            "        7.0374, 6.7541, 6.2059, 7.1660, 6.0903, 7.1050, 7.2290, 6.8692, 6.8051,\n",
            "        6.7347, 6.0312, 6.3024, 6.3345, 6.4072, 6.1330, 6.9263, 7.1994, 6.9469,\n",
            "        6.1528, 6.4443, 7.5899, 6.3591, 7.4975, 6.0386, 6.9947, 6.5264, 6.5649,\n",
            "        6.6854, 7.4658, 6.6641, 6.5016, 7.3943, 7.5048, 6.1183, 6.8358, 6.0632,\n",
            "        6.8350, 6.6736, 6.5884, 6.1201, 6.9388, 6.7331, 6.4241, 7.1657, 6.8631,\n",
            "        7.5568, 6.0378, 6.4747, 6.6377, 6.5823, 6.1554, 6.5333, 7.0969, 6.2426,\n",
            "        7.6300, 6.3071, 6.0288, 6.5971, 6.9325, 6.7983, 6.9112, 6.1060, 6.5025,\n",
            "        6.2836, 6.2892, 6.4801, 6.1162, 7.6324, 6.0490, 6.8166, 6.4535, 7.6047,\n",
            "        6.1730, 6.0151, 6.8404, 7.0779, 7.3343, 6.6996, 6.8704, 6.7058, 6.4756,\n",
            "        6.5960])\n"
          ],
          "name": "stdout"
        }
      ]
    },
    {
      "cell_type": "code",
      "metadata": {
        "id": "VuSBFudLQdaM",
        "colab_type": "code",
        "outputId": "1d267d87-a975-44e1-cfbf-8edb6e46bb52",
        "colab": {
          "base_uri": "https://localhost:8080/",
          "height": 34
        }
      },
      "source": [
        "# First checking if GPU is available\n",
        "device = torch.device(\"cuda\" if torch.cuda.is_available() else \"cpu\")\n",
        "\n",
        "if(device == \"cuda\"):\n",
        "    print('Training on GPU.')\n",
        "else:\n",
        "    print('No GPU available, training on CPU.')\n"
      ],
      "execution_count": 0,
      "outputs": [
        {
          "output_type": "stream",
          "text": [
            "No GPU available, training on CPU.\n"
          ],
          "name": "stdout"
        }
      ]
    },
    {
      "cell_type": "code",
      "metadata": {
        "id": "6zGg_CorQ9Yh",
        "colab_type": "code",
        "outputId": "231fe5d4-e241-4f20-d436-d5e5af0668a4",
        "colab": {
          "base_uri": "https://localhost:8080/",
          "height": 87
        }
      },
      "source": [
        "# Define training params\n",
        "epochs = 1 \n",
        "\n",
        "counter = 0\n",
        "print_every = 100\n",
        "clip = 1000 # gradient clipping\n",
        "\n",
        "# move model to GPU, if available\n",
        "net = net.float()\n",
        "net.to(device)\n",
        "\n",
        "net.train()\n",
        "# train for some number of epochs"
      ],
      "execution_count": 0,
      "outputs": [
        {
          "output_type": "execute_result",
          "data": {
            "text/plain": [
              "RegressioNet(\n",
              "  (layer_1): Linear(in_features=1, out_features=10, bias=True)\n",
              "  (layer_2): Linear(in_features=10, out_features=1, bias=True)\n",
              ")"
            ]
          },
          "metadata": {
            "tags": []
          },
          "execution_count": 93
        }
      ]
    },
    {
      "cell_type": "code",
      "metadata": {
        "id": "euthqmVuRXQH",
        "colab_type": "code",
        "outputId": "3da4c37d-6519-4099-d9d1-8b2bed41a83e",
        "colab": {
          "base_uri": "https://localhost:8080/",
          "height": 1000
        }
      },
      "source": [
        "import numpy\n",
        "for e in range(epochs):\n",
        "    # batch loop\n",
        "    for inputs, labels in train_loader:\n",
        "        counter += 1\n",
        "\n",
        "        # if training on gpu\n",
        "        inputs, labels = inputs.to(device), labels.to(device)\n",
        "\n",
        "        # zero accumulated gradients\n",
        "        net.zero_grad()\n",
        "\n",
        "        # get the output from the model\n",
        "        # x.size() -> [batch_size]\n",
        "        batch_size = inputs.size(0)\n",
        "        # IMPORTANT - change the dimensions of x before it enters the NN, batch size must always be first\n",
        "        x = inputs.unsqueeze(0)         # x.size() -> [1, batch_size]\n",
        "        x = x.view(batch_size, -1) # x.size() -> [batch_size, 1]\n",
        "        predictions = net(x)\n",
        "\n",
        "        # calculate the loss and perform backprop\n",
        "        loss = loss_func(predictions.squeeze(), labels.float())\n",
        "        loss.backward()\n",
        "        # `clip_grad_norm` helps prevent the exploding gradient problem in RNNs / LSTMs.\n",
        "        nn.utils.clip_grad_norm_(net.parameters(), clip)\n",
        "        optimizer.step()\n",
        "\n",
        "        # loss stats\n",
        "        if counter % print_every == 0:\n",
        "            # Get validation loss\n",
        "            val_losses = []\n",
        "            net.eval()\n",
        "            print_flag = True\n",
        "            for inputs, labels in valid_loader:\n",
        "                # Creating new variables for the hidden state, otherwise\n",
        "                # we'd backprop through the entire training history\n",
        "                if print_flag:\n",
        "                  inputs, labels = zip(*sorted(zip(inputs.numpy(), labels.numpy())))\n",
        "                  inputs = torch.from_numpy(numpy.asarray(inputs))\n",
        "                  labels = torch.from_numpy(numpy.asarray(labels))\n",
        "                inputs, labels = inputs.to(device), labels.to(device)\n",
        "                 \n",
        "\n",
        "                # get the output from the model\n",
        "                # x.size() -> [batch_size]\n",
        "                batch_size = inputs.size(0)\n",
        "                # IMPORTANT - change the dimensions of x before it enters the NN, batch size must always be first\n",
        "                x = inputs.unsqueeze(0)    # x.size() -> [1, batch_size]\n",
        "                x = x.view(batch_size, -1) # x.size() -> [batch_size, 1]\n",
        "                val_predictions = net(x)\n",
        "                val_loss = loss_func(val_predictions.squeeze(), labels.float())\n",
        "\n",
        "                val_losses.append(val_loss.item())\n",
        "                if print_flag:\n",
        "                  print_flag = False\n",
        "                  # plot and show learning process\n",
        "                  fig = plt.figure()\n",
        "                  ax = fig.add_subplot(111)\n",
        "                  ax.cla()\n",
        "                  ax.scatter(inputs.data.numpy(), labels.data.numpy())\n",
        "                  ax.plot(inputs.data.numpy(), val_predictions.data.numpy(), 'r-', lw=2)\n",
        "                  ax.text(0.5, 0, 'Loss=%.4f' % np.mean(val_losses), fontdict={'size': 10, 'color':  'red'})\n",
        "                  plt.pause(0.1)\n",
        "                  ax.clear()\n",
        "\n",
        "            net.train()\n",
        "            print(\"Epoch: {}/{}...\".format(e+1, epochs),\n",
        "                  \"Step: {}...\".format(counter),\n",
        "                  \"Loss: {:.6f}...\".format(loss.item()),\n",
        "                  \"Val Loss: {:.6f}\".format(np.mean(val_losses)))\n",
        "plt.show()"
      ],
      "execution_count": 0,
      "outputs": [
        {
          "output_type": "stream",
          "text": [
            "inputs 1 -  (0.0046651186, 0.028972313, 0.031100303, 0.032299113, 0.047934707, 0.05307153, 0.05349118, 0.07527803, 0.07912375, 0.0869845, 0.09786066, 0.10346448, 0.1041307, 0.18039532, 0.19055493, 0.19161244, 0.19867143, 0.22162123, 0.23051539, 0.23270231, 0.2638724, 0.28008622, 0.2821881, 0.28721234, 0.2887032, 0.2997995, 0.30200285, 0.31163785, 0.31288975, 0.32033363, 0.32289246, 0.33358356, 0.3337145, 0.3729583, 0.3745234, 0.4000929, 0.40040183, 0.42311326, 0.42636272, 0.4476243, 0.45605263, 0.46163237, 0.5069184, 0.512341, 0.5170981, 0.52765936, 0.5319962, 0.546017, 0.553777, 0.55479974, 0.5641039, 0.5875496, 0.59513736, 0.6041131, 0.626342, 0.634205, 0.63423884, 0.640431, 0.6503144, 0.653662, 0.6617661, 0.67129546, 0.67252195, 0.67489356, 0.6781352, 0.67931867, 0.6794484, 0.6826125, 0.684049, 0.68863964, 0.6904274, 0.69242316, 0.693204, 0.70351535, 0.7106918, 0.71358436, 0.7302561, 0.77031493, 0.78195876, 0.7841726, 0.7938995, 0.79685646, 0.8130617, 0.81357753, 0.8141064, 0.81579655, 0.82357967, 0.82417977, 0.8356319, 0.84934235, 0.8532646, 0.8566784, 0.8635994, 0.8879345, 0.89934707, 0.9071636, 0.91971934, 0.9350133, 0.9567266, 0.991681)\n",
            "labels 1 -  (6.0052633, 6.0297985, 6.0320363, 6.0330224, 6.04933, 6.054851, 6.055176, 6.0789156, 6.082515, 6.090944, 6.1030445, 6.109773, 6.1106067, 6.198506, 6.210378, 6.211736, 6.220521, 6.248684, 6.259354, 6.262518, 6.3023353, 6.3239093, 6.3267536, 6.333384, 6.3350244, 6.3497753, 6.35277, 6.366587, 6.36802, 6.377644, 6.382045, 6.396522, 6.3966327, 6.452323, 6.4549727, 6.4924307, 6.493395, 6.527299, 6.531884, 6.565306, 6.5781612, 6.5872555, 6.660578, 6.669369, 6.677221, 6.695243, 6.7030444, 6.727343, 6.739994, 6.7424455, 6.7585325, 6.8003955, 6.8135743, 6.829997, 6.87111, 6.885862, 6.8856745, 6.898064, 6.916156, 6.922805, 6.9388394, 6.957555, 6.9592967, 6.9638915, 6.9705744, 6.972549, 6.9730983, 6.9790936, 6.9820657, 6.9910865, 6.9954085, 6.9994507, 7.0002203, 7.0213675, 7.0357876, 7.0420628, 7.076454, 7.16108, 7.1858077, 7.190906, 7.212592, 7.218816, 7.255668, 7.2562885, 7.257695, 7.2616825, 7.2790422, 7.280389, 7.306284, 7.3381977, 7.3479958, 7.3558097, 7.371854, 7.4307165, 7.4582825, 7.4778996, 7.509007, 7.547771, 7.6040072, 7.6959743)\n"
          ],
          "name": "stdout"
        },
        {
          "output_type": "display_data",
          "data": {
            "image/png": "[encoded data removed]",
            "text/plain": [
              "<Figure size 432x288 with 1 Axes>"
            ]
          },
          "metadata": {
            "tags": []
          }
        },
        {
          "output_type": "stream",
          "text": [
            "Epoch: 1/1... Step: 6000... Loss: 0.000107... Val Loss: 0.000098\n",
            "inputs 1 -  (0.0013745886, 0.0062705935, 0.00865048, 0.012648821, 0.022715224, 0.033251975, 0.040474735, 0.07739622, 0.10105839, 0.11278612, 0.11624606, 0.116671175, 0.11842878, 0.12085681, 0.1287652, 0.14033125, 0.14382505, 0.15068501, 0.15431537, 0.15862201, 0.16951877, 0.17083217, 0.17234251, 0.19735678, 0.19773449, 0.20990479, 0.21461584, 0.21594861, 0.21686119, 0.2402752, 0.24981381, 0.29028738, 0.3100591, 0.32409453, 0.33024883, 0.3310932, 0.33659866, 0.3396929, 0.3528674, 0.36114067, 0.38899955, 0.3924884, 0.4021044, 0.4053683, 0.42894906, 0.44311243, 0.44935963, 0.4736842, 0.47806188, 0.49345887, 0.49488384, 0.499986, 0.50029975, 0.5080803, 0.51564324, 0.5211418, 0.52544725, 0.52976894, 0.55067945, 0.5530318, 0.56002253, 0.5612869, 0.57618266, 0.58281493, 0.5894983, 0.5980512, 0.62303257, 0.6285472, 0.63331735, 0.64051414, 0.6427653, 0.6431341, 0.64315015, 0.6462165, 0.65439427, 0.65467876, 0.66137004, 0.681042, 0.6963811, 0.71061677, 0.7295545, 0.74025476, 0.76266795, 0.7687849, 0.7819742, 0.7938995, 0.82909817, 0.8293699, 0.8334063, 0.83783126, 0.8430386, 0.8534314, 0.91502845, 0.9228175, 0.9257324, 0.9397121, 0.9647274, 0.98139244, 0.99572945, 0.9962153)\n",
            "labels 1 -  (6.0018373, 6.006982, 6.0087843, 6.0129237, 6.023673, 6.034549, 6.0414543, 6.0806365, 6.1073074, 6.120163, 6.1239653, 6.1240034, 6.1261115, 6.128506, 6.138022, 6.1515813, 6.1551223, 6.1632576, 6.1668625, 6.172113, 6.185003, 6.1865454, 6.188323, 6.218841, 6.2193236, 6.2339826, 6.2398887, 6.241611, 6.2425513, 6.271907, 6.284628, 6.337536, 6.3643084, 6.3835855, 6.3921905, 6.3926377, 6.400922, 6.404625, 6.4237733, 6.4355206, 6.476152, 6.4809427, 6.495471, 6.500651, 6.536638, 6.558162, 6.5680203, 6.6064734, 6.613685, 6.638003, 6.6407747, 6.6486993, 6.6500263, 6.662661, 6.6747828, 6.68455, 6.6918154, 6.699499, 6.734812, 6.7385707, 6.751616, 6.7530107, 6.779691, 6.791436, 6.803682, 6.8188095, 6.865424, 6.8756347, 6.884409, 6.8979855, 6.9020305, 6.902969, 6.902649, 6.9088326, 6.924608, 6.925329, 6.937758, 6.9762673, 7.007174, 7.0358543, 7.0746794, 7.097207, 7.144492, 7.1574397, 7.186348, 7.212592, 7.291432, 7.292135, 7.3012557, 7.3122053, 7.3238306, 7.3486056, 7.4976654, 7.5164523, 7.524522, 7.5592957, 7.6246686, 7.6684484, 7.707178, 7.708568)\n"
          ],
          "name": "stdout"
        },
        {
          "output_type": "display_data",
          "data": {
            "image/png": "[encoded data removed]",
            "text/plain": [
              "<Figure size 432x288 with 1 Axes>"
            ]
          },
          "metadata": {
            "tags": []
          }
        },
        {
          "output_type": "stream",
          "text": [
            "Epoch: 1/1... Step: 6100... Loss: 0.000105... Val Loss: 0.000093\n",
            "inputs 1 -  (0.027277088, 0.027917909, 0.063247316, 0.07335948, 0.08714903, 0.09426459, 0.10860743, 0.11471238, 0.12079098, 0.151902, 0.17873889, 0.19389583, 0.19472072, 0.20447603, 0.20452374, 0.20705307, 0.23209742, 0.2398451, 0.24434595, 0.24764514, 0.25411525, 0.2707509, 0.27786455, 0.29300424, 0.29645747, 0.2983969, 0.30513582, 0.30526444, 0.3382197, 0.34528363, 0.34646568, 0.3480527, 0.35088927, 0.36559796, 0.3696393, 0.37219054, 0.3743864, 0.37923068, 0.38802552, 0.42164287, 0.43678442, 0.44581878, 0.46730125, 0.46778017, 0.4800715, 0.49970034, 0.5076029, 0.5187013, 0.5215817, 0.5245082, 0.5319957, 0.5424988, 0.54265255, 0.55340016, 0.5624894, 0.58107585, 0.59027195, 0.60564226, 0.60668886, 0.60693794, 0.63318473, 0.6445253, 0.6618731, 0.67223984, 0.68111855, 0.6823733, 0.6857162, 0.6962062, 0.7017198, 0.7153166, 0.7170043, 0.72099316, 0.7217327, 0.72572035, 0.7262406, 0.746936, 0.76222235, 0.76616836, 0.7772093, 0.77838826, 0.82590234, 0.8317884, 0.8377666, 0.8574672, 0.8604618, 0.87428606, 0.8848111, 0.8934068, 0.89444536, 0.90235686, 0.91502845, 0.91949344, 0.93901134, 0.94473445, 0.9501845, 0.961617, 0.9687991, 0.984872, 0.9863271, 0.991681)\n",
            "labels 1 -  (6.028139, 6.0291557, 6.0657153, 6.07682, 6.0920496, 6.099412, 6.1151996, 6.1222305, 6.1285257, 6.1640673, 6.1962466, 6.2147083, 6.2154284, 6.227054, 6.2272763, 6.2307854, 6.2619634, 6.2714324, 6.277044, 6.281131, 6.2893705, 6.31112, 6.3212976, 6.340668, 6.3460197, 6.3485603, 6.357476, 6.3577027, 6.4029007, 6.4127955, 6.41477, 6.4163113, 6.4204364, 6.4414916, 6.4481597, 6.4512186, 6.454786, 6.4618163, 6.4741826, 6.524715, 6.548647, 6.5625834, 6.596179, 6.597177, 6.6167254, 6.6486053, 6.661569, 6.680586, 6.6848, 6.690538, 6.702553, 6.721176, 6.721359, 6.7396536, 6.7556486, 6.7886157, 6.805151, 6.8333015, 6.8351927, 6.835182, 6.8844867, 6.90516, 6.9391637, 6.9595942, 6.977015, 6.9792366, 6.9859743, 7.0068355, 7.0178947, 7.044902, 7.0487943, 7.0570498, 7.058605, 7.0665693, 7.0677466, 7.111472, 7.143197, 7.1522617, 7.1760077, 7.1785917, 7.28437, 7.297904, 7.3112392, 7.3581686, 7.364598, 7.3978715, 7.4227834, 7.4435263, 7.4460397, 7.4662547, 7.4976654, 7.5087824, 7.557859, 7.573045, 7.5864553, 7.6168427, 7.6356597, 7.6778245, 7.6817384, 7.6959743)\n"
          ],
          "name": "stdout"
        },
        {
          "output_type": "display_data",
          "data": {
            "image/png": "[encoded data removed]",
            "text/plain": [
              "<Figure size 432x288 with 1 Axes>"
            ]
          },
          "metadata": {
            "tags": []
          }
        },
        {
          "output_type": "stream",
          "text": [
            "Epoch: 1/1... Step: 6200... Loss: 0.000105... Val Loss: 0.000093\n",
            "inputs 1 -  (0.0033245755, 0.027850341, 0.04332504, 0.05750734, 0.06939534, 0.07098063, 0.07571567, 0.087010756, 0.097329564, 0.09778943, 0.10860743, 0.11429926, 0.11471238, 0.1241619, 0.14072515, 0.14231978, 0.15761013, 0.1607377, 0.17786705, 0.19722964, 0.23995462, 0.2417599, 0.26964098, 0.27047193, 0.27786455, 0.29120016, 0.30497247, 0.30775785, 0.30888882, 0.3228952, 0.3265463, 0.3497857, 0.35306433, 0.3757909, 0.42515212, 0.43080306, 0.45531657, 0.46278945, 0.47362724, 0.49903533, 0.50710326, 0.5137826, 0.5296162, 0.5392102, 0.55971545, 0.56212425, 0.5812221, 0.5897863, 0.5927639, 0.59513736, 0.6148125, 0.62217915, 0.6277608, 0.6328552, 0.6337182, 0.6379958, 0.6540343, 0.66137004, 0.6642986, 0.6681161, 0.6715024, 0.683427, 0.69173706, 0.69553906, 0.7326918, 0.7338105, 0.73432386, 0.73770165, 0.7538753, 0.7591715, 0.76081824, 0.7615241, 0.7672786, 0.776314, 0.77755475, 0.7816805, 0.7832307, 0.79955065, 0.8094301, 0.8260919, 0.83470875, 0.83949053, 0.8434632, 0.85203457, 0.86745846, 0.8761452, 0.87762886, 0.8793055, 0.9038795, 0.9057406, 0.9118431, 0.913108, 0.92110276, 0.92502147, 0.9304737, 0.93229, 0.94473445, 0.9730338, 0.9962153, 0.99862564)\n",
            "labels 1 -  (6.0040817, 6.028382, 6.0447335, 6.059358, 6.0724764, 6.0740867, 6.0795197, 6.0917726, 6.1027546, 6.103445, 6.1151996, 6.121741, 6.1222305, 6.1328626, 6.1513343, 6.153235, 6.171696, 6.1750393, 6.1953816, 6.2182255, 6.271255, 6.2739053, 6.310282, 6.3110914, 6.3212976, 6.338169, 6.35724, 6.3612986, 6.362042, 6.3816833, 6.3863115, 6.4188013, 6.424306, 6.4568467, 6.5306964, 6.5390024, 6.5767913, 6.5887127, 6.6066, 6.647705, 6.660598, 6.6722007, 6.698442, 6.7151656, 6.7508464, 6.755208, 6.7885437, 6.804286, 6.80981, 6.8135743, 6.849569, 6.8638935, 6.8737583, 6.883756, 6.885165, 6.8933625, 6.9239454, 6.937758, 6.9436336, 6.9506845, 6.957306, 6.981239, 6.9972644, 7.0052776, 7.0815034, 7.0833907, 7.084233, 7.0914235, 7.126016, 7.1370535, 7.1401005, 7.1421003, 7.1538987, 7.1742377, 7.1771045, 7.18607, 7.188909, 7.2248883, 7.2470655, 7.284647, 7.304364, 7.3157864, 7.324914, 7.34481, 7.3817754, 7.4025235, 7.4057026, 7.4099565, 7.469467, 7.4741855, 7.4896474, 7.492269, 7.512962, 7.52205, 7.5366945, 7.541126, 7.573045, 7.6461806, 7.708568, 7.7150555)\n"
          ],
          "name": "stdout"
        },
        {
          "output_type": "display_data",
          "data": {
            "image/png": "[encoded data removed]",
            "text/plain": [
              "<Figure size 432x288 with 1 Axes>"
            ]
          },
          "metadata": {
            "tags": []
          }
        },
        {
          "output_type": "stream",
          "text": [
            "Epoch: 1/1... Step: 6300... Loss: 0.000079... Val Loss: 0.000094\n",
            "inputs 1 -  (0.0008062916, 0.002408534, 0.0028974696, 0.00749018, 0.022334117, 0.029642027, 0.03199121, 0.036831327, 0.041951604, 0.061134603, 0.0614731, 0.07595621, 0.08946001, 0.09126102, 0.09778943, 0.10898145, 0.12575996, 0.12899306, 0.12922946, 0.12994769, 0.15946859, 0.18542102, 0.20478155, 0.22577308, 0.24389178, 0.24466504, 0.25411525, 0.3068089, 0.31642836, 0.32319194, 0.33091462, 0.33361092, 0.3337842, 0.34436193, 0.3445089, 0.3883776, 0.45164806, 0.45393932, 0.45714274, 0.4667645, 0.466909, 0.46730125, 0.4806904, 0.49651274, 0.51525, 0.51775265, 0.51816434, 0.53285116, 0.54137087, 0.54304653, 0.56725824, 0.5937771, 0.60745907, 0.6108379, 0.61381954, 0.6146269, 0.62303257, 0.6231362, 0.6339425, 0.64790016, 0.6638635, 0.68687344, 0.687595, 0.68867695, 0.7235475, 0.729323, 0.7454277, 0.75166166, 0.7600556, 0.7669363, 0.7763442, 0.77838826, 0.78257906, 0.78403735, 0.82045615, 0.8236089, 0.82471496, 0.85503143, 0.8638727, 0.8649203, 0.8776187, 0.8991041, 0.90133286, 0.91762745, 0.9195757, 0.92327446, 0.9371957, 0.9415265, 0.9468824, 0.94912297, 0.9494694, 0.9557327, 0.96368605, 0.96452796, 0.98105675, 0.98262405, 0.9861661, 0.98685837, 0.9902454, 0.9930895)\n",
            "labels 1 -  (6.001542, 6.003241, 6.003424, 6.007763, 6.022958, 6.030947, 6.033365, 6.0377226, 6.0431595, 6.0637345, 6.063543, 6.0790186, 6.094125, 6.096271, 6.103445, 6.115935, 6.134936, 6.1379485, 6.1387634, 6.1391673, 6.1731396, 6.2037277, 6.227432, 6.253588, 6.2771883, 6.2779956, 6.2893705, 6.359414, 6.3731265, 6.3819547, 6.3931093, 6.396936, 6.397083, 6.411412, 6.4113865, 6.475399, 6.5711665, 6.5746207, 6.5800767, 6.5952854, 6.5951376, 6.596179, 6.618176, 6.6430063, 6.674403, 6.6787033, 6.6789603, 6.704191, 6.718376, 6.7218723, 6.7640963, 6.8110414, 6.8359942, 6.8429103, 6.848006, 6.84926, 6.865424, 6.865594, 6.8857956, 6.9123116, 6.9431562, 6.987693, 6.989553, 6.9913616, 7.0617537, 7.074147, 7.107944, 7.1214056, 7.138966, 7.153974, 7.1735206, 7.1785917, 7.1880965, 7.190859, 7.271963, 7.2788014, 7.2820873, 7.3521175, 7.372433, 7.3757544, 7.405973, 7.4577937, 7.4629393, 7.503828, 7.5083003, 7.5179877, 7.5529003, 7.5645614, 7.578528, 7.583932, 7.584836, 7.6008053, 7.621367, 7.624274, 7.667315, 7.671491, 7.68112, 7.6828923, 7.6923537, 7.699778)\n"
          ],
          "name": "stdout"
        },
        {
          "output_type": "display_data",
          "data": {
            "image/png": "[encoded data removed]",
            "text/plain": [
              "<Figure size 432x288 with 1 Axes>"
            ]
          },
          "metadata": {
            "tags": []
          }
        },
        {
          "output_type": "stream",
          "text": [
            "Epoch: 1/1... Step: 6400... Loss: 0.000141... Val Loss: 0.000159\n",
            "inputs 1 -  (0.0014919143, 0.025525197, 0.03891386, 0.056687012, 0.060062576, 0.062082723, 0.06487262, 0.06595475, 0.06726274, 0.073494256, 0.08837571, 0.091757946, 0.1237943, 0.1241619, 0.12661175, 0.13090053, 0.14491397, 0.15149349, 0.1597323, 0.16943812, 0.18388385, 0.18755646, 0.19229439, 0.19306126, 0.20339863, 0.22165208, 0.22797005, 0.2280657, 0.23642954, 0.24127088, 0.24835594, 0.26964098, 0.2700933, 0.27470696, 0.27523574, 0.27600423, 0.27683762, 0.27768016, 0.28321838, 0.30526444, 0.31285447, 0.33341956, 0.34146392, 0.3418538, 0.34301168, 0.367267, 0.38125008, 0.4194292, 0.444229, 0.44942188, 0.48023465, 0.50934464, 0.5149978, 0.5309418, 0.5404789, 0.55340016, 0.5660606, 0.56958675, 0.5700373, 0.5709908, 0.5734207, 0.6016827, 0.6073511, 0.62130743, 0.63331735, 0.6478556, 0.6513899, 0.6632544, 0.71534693, 0.72040355, 0.7335284, 0.73539156, 0.7450097, 0.76222235, 0.7943379, 0.8015562, 0.8048346, 0.81052184, 0.8115079, 0.81835496, 0.82586265, 0.84066856, 0.840732, 0.8676455, 0.872739, 0.8736558, 0.8966804, 0.9073652, 0.91320723, 0.91401076, 0.91645193, 0.9165851, 0.92602044, 0.9278956, 0.95098925, 0.95340985, 0.96665335, 0.97258246, 0.9886041, 0.9985686)\n",
            "labels 1 -  (6.002058, 6.025905, 6.040485, 6.059213, 6.062535, 6.064151, 6.067978, 6.069008, 6.0697217, 6.0770063, 6.092892, 6.097036, 6.131976, 6.1328626, 6.135384, 6.140075, 6.156803, 6.1639986, 6.1732273, 6.1847258, 6.2024713, 6.206914, 6.212632, 6.213105, 6.2260685, 6.2487974, 6.256996, 6.2568507, 6.2673645, 6.2734995, 6.281976, 6.310282, 6.3102107, 6.3169775, 6.317796, 6.3182507, 6.3197155, 6.3205976, 6.3280973, 6.3577027, 6.3676643, 6.395908, 6.407283, 6.407914, 6.4098043, 6.444402, 6.4645047, 6.521674, 6.5597353, 6.5678735, 6.616542, 6.6644115, 6.674397, 6.700851, 6.717377, 6.7396536, 6.7618637, 6.7676225, 6.7688894, 6.770883, 6.7748404, 6.826042, 6.8362045, 6.861514, 6.884409, 6.911841, 6.918727, 6.9419227, 7.045062, 7.0554266, 7.0830994, 7.086578, 7.1074014, 7.143197, 7.2139645, 7.229552, 7.236783, 7.24989, 7.2521634, 7.266789, 7.2841854, 7.318297, 7.3184886, 7.3820195, 7.393827, 7.3957677, 7.4514933, 7.4781084, 7.4923058, 7.494516, 7.501192, 7.5015836, 7.5248404, 7.5301447, 7.5884886, 7.5952897, 7.62936, 7.645498, 7.6876545, 7.715308)\n"
          ],
          "name": "stdout"
        },
        {
          "output_type": "display_data",
          "data": {
            "image/png": "[encoded data removed]",
            "text/plain": [
              "<Figure size 432x288 with 1 Axes>"
            ]
          },
          "metadata": {
            "tags": []
          }
        },
        {
          "output_type": "stream",
          "text": [
            "Epoch: 1/1... Step: 6500... Loss: 0.000108... Val Loss: 0.000119\n",
            "inputs 1 -  (0.0041427645, 0.010813998, 0.01844075, 0.02006771, 0.02866884, 0.033603497, 0.036313795, 0.03891386, 0.039613474, 0.051970933, 0.055643026, 0.07316048, 0.07790863, 0.09786071, 0.100839496, 0.124272645, 0.13675602, 0.13854279, 0.13958067, 0.14516488, 0.14942488, 0.16558208, 0.17626218, 0.17766324, 0.22712858, 0.2332498, 0.25553435, 0.29842314, 0.30703697, 0.3124091, 0.32297948, 0.34508982, 0.34956604, 0.3544624, 0.37159044, 0.3765203, 0.3776774, 0.38132182, 0.3857104, 0.40510008, 0.43284318, 0.44527045, 0.4567476, 0.4577419, 0.46776408, 0.4681132, 0.46918634, 0.47219, 0.47253045, 0.5062859, 0.512341, 0.51457244, 0.5160868, 0.5390281, 0.553622, 0.55542195, 0.5807989, 0.5841286, 0.6127792, 0.619004, 0.6222186, 0.6321494, 0.6393914, 0.6444167, 0.6488015, 0.6503144, 0.6580292, 0.6828831, 0.70615095, 0.71093225, 0.733759, 0.74516696, 0.7460738, 0.75230277, 0.78257906, 0.7943379, 0.807606, 0.82159597, 0.82265425, 0.82940346, 0.83104205, 0.8673808, 0.86758107, 0.8776187, 0.8972462, 0.8992454, 0.90931314, 0.9153603, 0.91558266, 0.92829245, 0.92912805, 0.93399453, 0.9350722, 0.9400407, 0.9602791, 0.96324277, 0.9647274, 0.97134405, 0.9867717, 0.9886041)\n",
            "labels 1 -  (6.0049725, 6.01111, 6.0187, 6.021083, 6.0300026, 6.0351057, 6.037086, 6.040485, 6.0406966, 6.0543427, 6.0575786, 6.0759635, 6.0813785, 6.103364, 6.1065993, 6.1332445, 6.14685, 6.149231, 6.150521, 6.1564374, 6.1615386, 6.180931, 6.193036, 6.194917, 6.2550135, 6.263696, 6.2912703, 6.3485856, 6.359752, 6.3674912, 6.3814025, 6.4127874, 6.4189363, 6.426078, 6.450444, 6.458005, 6.459826, 6.4650373, 6.471478, 6.5003443, 6.542096, 6.5611777, 6.579453, 6.5810423, 6.596667, 6.597537, 6.599601, 6.603962, 6.604094, 6.6597633, 6.669369, 6.673006, 6.6756954, 6.714442, 6.740421, 6.743214, 6.7881694, 6.793942, 6.8462596, 6.8580585, 6.8638577, 6.88196, 6.8960075, 6.9049788, 6.913921, 6.916156, 6.931301, 6.9800444, 7.027148, 7.0365024, 7.0832825, 7.107164, 7.108836, 7.1219225, 7.1880965, 7.2139645, 7.24335, 7.2743645, 7.27676, 7.2926807, 7.296696, 7.381502, 7.381927, 7.405973, 7.453002, 7.458546, 7.4832144, 7.4982066, 7.499224, 7.5306363, 7.533173, 7.545271, 7.548093, 7.560825, 7.61326, 7.6201816, 7.6246686, 7.642391, 7.6831713, 7.6876545)\n"
          ],
          "name": "stdout"
        },
        {
          "output_type": "display_data",
          "data": {
            "image/png": "[encoded data removed]",
            "text/plain": [
              "<Figure size 432x288 with 1 Axes>"
            ]
          },
          "metadata": {
            "tags": []
          }
        },
        {
          "output_type": "stream",
          "text": [
            "Epoch: 1/1... Step: 6600... Loss: 0.000106... Val Loss: 0.000085\n",
            "inputs 1 -  (0.029276902, 0.04701983, 0.058653697, 0.066487916, 0.07900599, 0.079069056, 0.10138547, 0.10540435, 0.12892161, 0.13649121, 0.16370635, 0.18352246, 0.18781988, 0.22664748, 0.22788675, 0.23016375, 0.23273307, 0.24806142, 0.2540477, 0.2562339, 0.25868383, 0.27850458, 0.28334406, 0.29941145, 0.2998437, 0.30682582, 0.30939552, 0.31559354, 0.3445975, 0.34754258, 0.35304004, 0.38235092, 0.39101115, 0.39720604, 0.39748493, 0.40914163, 0.409838, 0.417186, 0.4401943, 0.44814888, 0.47319508, 0.4764612, 0.4845482, 0.48704988, 0.5047864, 0.5103398, 0.51511943, 0.5206634, 0.5253726, 0.5273008, 0.5309418, 0.5316722, 0.5379363, 0.5408347, 0.5480566, 0.5528067, 0.5591369, 0.5617293, 0.5650895, 0.5863469, 0.5917861, 0.600549, 0.6024663, 0.60445416, 0.6053764, 0.60588765, 0.6277883, 0.65802157, 0.66660756, 0.66711146, 0.6795097, 0.6800269, 0.6826125, 0.6904274, 0.69880325, 0.71119374, 0.72176355, 0.72662544, 0.7633342, 0.78361523, 0.7918049, 0.7964485, 0.8010586, 0.8025944, 0.8090666, 0.8534471, 0.86101156, 0.89041406, 0.9089105, 0.91320723, 0.9274569, 0.93229, 0.93469006, 0.9394653, 0.9403541, 0.9622266, 0.9792771, 0.9826627, 0.9919486, 0.99461097)\n",
            "labels 1 -  (6.0298395, 6.0486765, 6.0610766, 6.069586, 6.082485, 6.082383, 6.107554, 6.1119494, 6.1379404, 6.146637, 6.178327, 6.202388, 6.2067547, 6.2552114, 6.255981, 6.25904, 6.26299, 6.2816553, 6.289688, 6.292105, 6.295469, 6.321186, 6.3278694, 6.3496137, 6.350172, 6.359409, 6.3626556, 6.3711967, 6.412115, 6.4160557, 6.4243345, 6.4659715, 6.4792056, 6.4885926, 6.488686, 6.505855, 6.5070763, 6.518026, 6.553527, 6.565427, 6.6051393, 6.610737, 6.6235065, 6.6284156, 6.656713, 6.6667066, 6.6747465, 6.6834164, 6.691678, 6.695206, 6.700851, 6.702591, 6.712784, 6.7175097, 6.729992, 6.7386093, 6.749397, 6.754343, 6.759683, 6.7978544, 6.807391, 6.8232956, 6.82667, 6.830737, 6.8324795, 6.832996, 6.874142, 6.9316583, 6.948575, 6.949293, 6.9735355, 6.974451, 6.9790936, 6.9954085, 7.012089, 7.03689, 7.0583844, 7.068879, 7.1458178, 7.1896067, 7.2083516, 7.218588, 7.2279024, 7.231792, 7.2459917, 7.3479414, 7.366038, 7.4362717, 7.4821033, 7.4923058, 7.5281496, 7.541126, 7.547264, 7.559332, 7.5609937, 7.6178374, 7.6627774, 7.672068, 7.6974726, 7.704613)\n"
          ],
          "name": "stdout"
        },
        {
          "output_type": "display_data",
          "data": {
            "image/png": "[encoded data removed]",
            "text/plain": [
              "<Figure size 432x288 with 1 Axes>"
            ]
          },
          "metadata": {
            "tags": []
          }
        },
        {
          "output_type": "stream",
          "text": [
            "Epoch: 1/1... Step: 6700... Loss: 0.000100... Val Loss: 0.000094\n"
          ],
          "name": "stdout"
        }
      ]
    },
    {
      "cell_type": "markdown",
      "metadata": {
        "id": "2e2NfwzrNQrR",
        "colab_type": "text"
      },
      "source": [
        "### Part 3 - More About AUTOGRAD: Automatic Differentiation\n",
        "\n",
        "As you have seen in the regression model above, tensors are similar to NumPy’s ndarrays, with the addition being that Tensors can also be used on a GPU to accelerate computing.\n",
        "\n",
        "During our training we have used AUTOGRAD methods to update our Neural Net. Lets discuss about that in more details."
      ]
    },
    {
      "cell_type": "markdown",
      "metadata": {
        "id": "gcepwNpzV2hK",
        "colab_type": "text"
      },
      "source": [
        "***torch.Tensor*** is the central class of the package. If you set its attribute ***.requires_grad*** as True, it starts to track all operations on it. When you finish your computation you can call ***.backward()*** and have all the gradients computed automatically. The gradient for this tensor will be accumulated into .grad attribute.\n",
        "\n",
        "To stop a tensor from tracking history, you can call ***.detach()*** to detach it from the computation history, and to prevent future computation from being tracked."
      ]
    },
    {
      "cell_type": "code",
      "metadata": {
        "id": "00AoeCzpWPVB",
        "colab_type": "code",
        "outputId": "4c74e865-b002-4528-f00a-f823ab11d289",
        "colab": {
          "base_uri": "https://localhost:8080/",
          "height": 101
        }
      },
      "source": [
        "import torch\n",
        "\n",
        "# Notice the 'requires_grad'\n",
        "x = torch.ones(2, 2, requires_grad=True)\n",
        "print(x)\n",
        "\n",
        "y = x + 2\n",
        "print(y)\n",
        "\n",
        "print(y.grad_fn)\n"
      ],
      "execution_count": 0,
      "outputs": [
        {
          "output_type": "stream",
          "text": [
            "tensor([[1., 1.],\n",
            "        [1., 1.]], requires_grad=True)\n",
            "tensor([[3., 3.],\n",
            "        [3., 3.]], grad_fn=<AddBackward0>)\n",
            "<AddBackward0 object at 0x7f56c185fda0>\n"
          ],
          "name": "stdout"
        }
      ]
    },
    {
      "cell_type": "code",
      "metadata": {
        "id": "O1H5ywdnWwb5",
        "colab_type": "code",
        "outputId": "4e3a7e8d-4c13-4fc1-9bf1-131e131a87ae",
        "colab": {
          "base_uri": "https://localhost:8080/",
          "height": 67
        }
      },
      "source": [
        "# Notice how the tensors follow mathamtical operations\n",
        "z = y * y * 3\n",
        "out = z.mean()\n",
        "\n",
        "print(z)\n",
        "print(out)"
      ],
      "execution_count": 0,
      "outputs": [
        {
          "output_type": "stream",
          "text": [
            "tensor([[27., 27.],\n",
            "        [27., 27.]], grad_fn=<MulBackward0>)\n",
            "tensor(27., grad_fn=<MeanBackward0>)\n"
          ],
          "name": "stdout"
        }
      ]
    },
    {
      "cell_type": "markdown",
      "metadata": {
        "id": "S-RPZteFYeJl",
        "colab_type": "text"
      },
      "source": [
        "More on require grad"
      ]
    },
    {
      "cell_type": "code",
      "metadata": {
        "id": "42mBsLXgYiDB",
        "colab_type": "code",
        "outputId": "91afec40-e61f-4097-a7c0-47f19422a9c5",
        "colab": {
          "base_uri": "https://localhost:8080/",
          "height": 67
        }
      },
      "source": [
        "a = torch.randn(3, 2)\n",
        "a = ((a * 3) - (a - 1))\n",
        "print(a.requires_grad)\n",
        "a.requires_grad_(True)\n",
        "print(a.requires_grad)\n",
        "b = (a * a).sum()\n",
        "print(b.grad_fn)"
      ],
      "execution_count": 0,
      "outputs": [
        {
          "output_type": "stream",
          "text": [
            "False\n",
            "True\n",
            "<SumBackward0 object at 0x7f5676d03128>\n"
          ],
          "name": "stdout"
        }
      ]
    },
    {
      "cell_type": "markdown",
      "metadata": {
        "id": "ZY8T_K5qYuwO",
        "colab_type": "text"
      },
      "source": [
        "### Lets see how easy it is to calculate the gradients:"
      ]
    },
    {
      "cell_type": "code",
      "metadata": {
        "id": "zFAcbB01Y1O2",
        "colab_type": "code",
        "outputId": "6fcdd471-aee5-436c-c723-6e60a87583cd",
        "colab": {
          "base_uri": "https://localhost:8080/",
          "height": 50
        }
      },
      "source": [
        "b.backward()\n",
        "# print gradients d(out)/dx\n",
        "print(x.grad)"
      ],
      "execution_count": 0,
      "outputs": [
        {
          "output_type": "stream",
          "text": [
            "tensor([[4.5000, 4.5000],\n",
            "        [4.5000, 4.5000]])\n"
          ],
          "name": "stdout"
        }
      ]
    },
    {
      "cell_type": "markdown",
      "metadata": {
        "id": "jDz9FoNeH45t",
        "colab_type": "text"
      },
      "source": [
        "## <img src=\"https://img.icons8.com/dusk/64/000000/prize.png\" style=\"height:50px;display:inline\"> Credits\n",
        "* Much of the code above is adjusted from  <a href=\"https://github.com/udacity\">Udacity tutorials</a>\n",
        "* By <a href=\"https://github.com/eyalbd2\">Eyal Ben David</a> and <a href=\"https://github.com/nadavo\">Nadav Oved </a>"
      ]
    }
  ]
}